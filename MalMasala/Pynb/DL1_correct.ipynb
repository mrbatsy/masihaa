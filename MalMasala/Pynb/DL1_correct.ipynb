{
  "nbformat": 4,
  "nbformat_minor": 0,
  "metadata": {
    "colab": {
      "provenance": [],
      "gpuType": "T4"
    },
    "kernelspec": {
      "name": "python3",
      "display_name": "Python 3"
    },
    "language_info": {
      "name": "python"
    }
  },
  "cells": [
    {
      "cell_type": "code",
      "source": [
        "import pandas as pd\n",
        "import numpy as np\n",
        "from sklearn.model_selection import train_test_split"
      ],
      "metadata": {
        "id": "-SrHnEjo6N3Y"
      },
      "execution_count": 4,
      "outputs": []
    },
    {
      "cell_type": "code",
      "source": [
        "df = pd.read_csv('/content/BostonHousing.csv')"
      ],
      "metadata": {
        "id": "oAvnKxXK6aOd"
      },
      "execution_count": 19,
      "outputs": []
    },
    {
      "cell_type": "code",
      "source": [
        "df"
      ],
      "metadata": {
        "colab": {
          "base_uri": "https://localhost:8080/",
          "height": 423
        },
        "id": "6peNe5MB6j9r",
        "outputId": "5a4664f7-7fb2-46e3-9415-4e51c842d23d"
      },
      "execution_count": 20,
      "outputs": [
        {
          "output_type": "execute_result",
          "data": {
            "text/plain": [
              "        crim    zn  indus  chas    nox     rm   age     dis  rad  tax  \\\n",
              "0    0.00632  18.0   2.31     0  0.538  6.575  65.2  4.0900    1  296   \n",
              "1    0.02731   0.0   7.07     0  0.469  6.421  78.9  4.9671    2  242   \n",
              "2    0.02729   0.0   7.07     0  0.469  7.185  61.1  4.9671    2  242   \n",
              "3    0.03237   0.0   2.18     0  0.458  6.998  45.8  6.0622    3  222   \n",
              "4    0.06905   0.0   2.18     0  0.458  7.147  54.2  6.0622    3  222   \n",
              "..       ...   ...    ...   ...    ...    ...   ...     ...  ...  ...   \n",
              "501  0.06263   0.0  11.93     0  0.573  6.593  69.1  2.4786    1  273   \n",
              "502  0.04527   0.0  11.93     0  0.573  6.120  76.7  2.2875    1  273   \n",
              "503  0.06076   0.0  11.93     0  0.573  6.976  91.0  2.1675    1  273   \n",
              "504  0.10959   0.0  11.93     0  0.573  6.794  89.3  2.3889    1  273   \n",
              "505  0.04741   0.0  11.93     0  0.573  6.030  80.8  2.5050    1  273   \n",
              "\n",
              "     ptratio       b  lstat  medv  \n",
              "0       15.3  396.90   4.98  24.0  \n",
              "1       17.8  396.90   9.14  21.6  \n",
              "2       17.8  392.83   4.03  34.7  \n",
              "3       18.7  394.63   2.94  33.4  \n",
              "4       18.7  396.90   5.33  36.2  \n",
              "..       ...     ...    ...   ...  \n",
              "501     21.0  391.99   9.67  22.4  \n",
              "502     21.0  396.90   9.08  20.6  \n",
              "503     21.0  396.90   5.64  23.9  \n",
              "504     21.0  393.45   6.48  22.0  \n",
              "505     21.0  396.90   7.88  11.9  \n",
              "\n",
              "[506 rows x 14 columns]"
            ],
            "text/html": [
              "\n",
              "  <div id=\"df-2cb748d0-e70b-4155-b9e1-96d3d82d128d\">\n",
              "    <div class=\"colab-df-container\">\n",
              "      <div>\n",
              "<style scoped>\n",
              "    .dataframe tbody tr th:only-of-type {\n",
              "        vertical-align: middle;\n",
              "    }\n",
              "\n",
              "    .dataframe tbody tr th {\n",
              "        vertical-align: top;\n",
              "    }\n",
              "\n",
              "    .dataframe thead th {\n",
              "        text-align: right;\n",
              "    }\n",
              "</style>\n",
              "<table border=\"1\" class=\"dataframe\">\n",
              "  <thead>\n",
              "    <tr style=\"text-align: right;\">\n",
              "      <th></th>\n",
              "      <th>crim</th>\n",
              "      <th>zn</th>\n",
              "      <th>indus</th>\n",
              "      <th>chas</th>\n",
              "      <th>nox</th>\n",
              "      <th>rm</th>\n",
              "      <th>age</th>\n",
              "      <th>dis</th>\n",
              "      <th>rad</th>\n",
              "      <th>tax</th>\n",
              "      <th>ptratio</th>\n",
              "      <th>b</th>\n",
              "      <th>lstat</th>\n",
              "      <th>medv</th>\n",
              "    </tr>\n",
              "  </thead>\n",
              "  <tbody>\n",
              "    <tr>\n",
              "      <th>0</th>\n",
              "      <td>0.00632</td>\n",
              "      <td>18.0</td>\n",
              "      <td>2.31</td>\n",
              "      <td>0</td>\n",
              "      <td>0.538</td>\n",
              "      <td>6.575</td>\n",
              "      <td>65.2</td>\n",
              "      <td>4.0900</td>\n",
              "      <td>1</td>\n",
              "      <td>296</td>\n",
              "      <td>15.3</td>\n",
              "      <td>396.90</td>\n",
              "      <td>4.98</td>\n",
              "      <td>24.0</td>\n",
              "    </tr>\n",
              "    <tr>\n",
              "      <th>1</th>\n",
              "      <td>0.02731</td>\n",
              "      <td>0.0</td>\n",
              "      <td>7.07</td>\n",
              "      <td>0</td>\n",
              "      <td>0.469</td>\n",
              "      <td>6.421</td>\n",
              "      <td>78.9</td>\n",
              "      <td>4.9671</td>\n",
              "      <td>2</td>\n",
              "      <td>242</td>\n",
              "      <td>17.8</td>\n",
              "      <td>396.90</td>\n",
              "      <td>9.14</td>\n",
              "      <td>21.6</td>\n",
              "    </tr>\n",
              "    <tr>\n",
              "      <th>2</th>\n",
              "      <td>0.02729</td>\n",
              "      <td>0.0</td>\n",
              "      <td>7.07</td>\n",
              "      <td>0</td>\n",
              "      <td>0.469</td>\n",
              "      <td>7.185</td>\n",
              "      <td>61.1</td>\n",
              "      <td>4.9671</td>\n",
              "      <td>2</td>\n",
              "      <td>242</td>\n",
              "      <td>17.8</td>\n",
              "      <td>392.83</td>\n",
              "      <td>4.03</td>\n",
              "      <td>34.7</td>\n",
              "    </tr>\n",
              "    <tr>\n",
              "      <th>3</th>\n",
              "      <td>0.03237</td>\n",
              "      <td>0.0</td>\n",
              "      <td>2.18</td>\n",
              "      <td>0</td>\n",
              "      <td>0.458</td>\n",
              "      <td>6.998</td>\n",
              "      <td>45.8</td>\n",
              "      <td>6.0622</td>\n",
              "      <td>3</td>\n",
              "      <td>222</td>\n",
              "      <td>18.7</td>\n",
              "      <td>394.63</td>\n",
              "      <td>2.94</td>\n",
              "      <td>33.4</td>\n",
              "    </tr>\n",
              "    <tr>\n",
              "      <th>4</th>\n",
              "      <td>0.06905</td>\n",
              "      <td>0.0</td>\n",
              "      <td>2.18</td>\n",
              "      <td>0</td>\n",
              "      <td>0.458</td>\n",
              "      <td>7.147</td>\n",
              "      <td>54.2</td>\n",
              "      <td>6.0622</td>\n",
              "      <td>3</td>\n",
              "      <td>222</td>\n",
              "      <td>18.7</td>\n",
              "      <td>396.90</td>\n",
              "      <td>5.33</td>\n",
              "      <td>36.2</td>\n",
              "    </tr>\n",
              "    <tr>\n",
              "      <th>...</th>\n",
              "      <td>...</td>\n",
              "      <td>...</td>\n",
              "      <td>...</td>\n",
              "      <td>...</td>\n",
              "      <td>...</td>\n",
              "      <td>...</td>\n",
              "      <td>...</td>\n",
              "      <td>...</td>\n",
              "      <td>...</td>\n",
              "      <td>...</td>\n",
              "      <td>...</td>\n",
              "      <td>...</td>\n",
              "      <td>...</td>\n",
              "      <td>...</td>\n",
              "    </tr>\n",
              "    <tr>\n",
              "      <th>501</th>\n",
              "      <td>0.06263</td>\n",
              "      <td>0.0</td>\n",
              "      <td>11.93</td>\n",
              "      <td>0</td>\n",
              "      <td>0.573</td>\n",
              "      <td>6.593</td>\n",
              "      <td>69.1</td>\n",
              "      <td>2.4786</td>\n",
              "      <td>1</td>\n",
              "      <td>273</td>\n",
              "      <td>21.0</td>\n",
              "      <td>391.99</td>\n",
              "      <td>9.67</td>\n",
              "      <td>22.4</td>\n",
              "    </tr>\n",
              "    <tr>\n",
              "      <th>502</th>\n",
              "      <td>0.04527</td>\n",
              "      <td>0.0</td>\n",
              "      <td>11.93</td>\n",
              "      <td>0</td>\n",
              "      <td>0.573</td>\n",
              "      <td>6.120</td>\n",
              "      <td>76.7</td>\n",
              "      <td>2.2875</td>\n",
              "      <td>1</td>\n",
              "      <td>273</td>\n",
              "      <td>21.0</td>\n",
              "      <td>396.90</td>\n",
              "      <td>9.08</td>\n",
              "      <td>20.6</td>\n",
              "    </tr>\n",
              "    <tr>\n",
              "      <th>503</th>\n",
              "      <td>0.06076</td>\n",
              "      <td>0.0</td>\n",
              "      <td>11.93</td>\n",
              "      <td>0</td>\n",
              "      <td>0.573</td>\n",
              "      <td>6.976</td>\n",
              "      <td>91.0</td>\n",
              "      <td>2.1675</td>\n",
              "      <td>1</td>\n",
              "      <td>273</td>\n",
              "      <td>21.0</td>\n",
              "      <td>396.90</td>\n",
              "      <td>5.64</td>\n",
              "      <td>23.9</td>\n",
              "    </tr>\n",
              "    <tr>\n",
              "      <th>504</th>\n",
              "      <td>0.10959</td>\n",
              "      <td>0.0</td>\n",
              "      <td>11.93</td>\n",
              "      <td>0</td>\n",
              "      <td>0.573</td>\n",
              "      <td>6.794</td>\n",
              "      <td>89.3</td>\n",
              "      <td>2.3889</td>\n",
              "      <td>1</td>\n",
              "      <td>273</td>\n",
              "      <td>21.0</td>\n",
              "      <td>393.45</td>\n",
              "      <td>6.48</td>\n",
              "      <td>22.0</td>\n",
              "    </tr>\n",
              "    <tr>\n",
              "      <th>505</th>\n",
              "      <td>0.04741</td>\n",
              "      <td>0.0</td>\n",
              "      <td>11.93</td>\n",
              "      <td>0</td>\n",
              "      <td>0.573</td>\n",
              "      <td>6.030</td>\n",
              "      <td>80.8</td>\n",
              "      <td>2.5050</td>\n",
              "      <td>1</td>\n",
              "      <td>273</td>\n",
              "      <td>21.0</td>\n",
              "      <td>396.90</td>\n",
              "      <td>7.88</td>\n",
              "      <td>11.9</td>\n",
              "    </tr>\n",
              "  </tbody>\n",
              "</table>\n",
              "<p>506 rows × 14 columns</p>\n",
              "</div>\n",
              "      <button class=\"colab-df-convert\" onclick=\"convertToInteractive('df-2cb748d0-e70b-4155-b9e1-96d3d82d128d')\"\n",
              "              title=\"Convert this dataframe to an interactive table.\"\n",
              "              style=\"display:none;\">\n",
              "        \n",
              "  <svg xmlns=\"http://www.w3.org/2000/svg\" height=\"24px\"viewBox=\"0 0 24 24\"\n",
              "       width=\"24px\">\n",
              "    <path d=\"M0 0h24v24H0V0z\" fill=\"none\"/>\n",
              "    <path d=\"M18.56 5.44l.94 2.06.94-2.06 2.06-.94-2.06-.94-.94-2.06-.94 2.06-2.06.94zm-11 1L8.5 8.5l.94-2.06 2.06-.94-2.06-.94L8.5 2.5l-.94 2.06-2.06.94zm10 10l.94 2.06.94-2.06 2.06-.94-2.06-.94-.94-2.06-.94 2.06-2.06.94z\"/><path d=\"M17.41 7.96l-1.37-1.37c-.4-.4-.92-.59-1.43-.59-.52 0-1.04.2-1.43.59L10.3 9.45l-7.72 7.72c-.78.78-.78 2.05 0 2.83L4 21.41c.39.39.9.59 1.41.59.51 0 1.02-.2 1.41-.59l7.78-7.78 2.81-2.81c.8-.78.8-2.07 0-2.86zM5.41 20L4 18.59l7.72-7.72 1.47 1.35L5.41 20z\"/>\n",
              "  </svg>\n",
              "      </button>\n",
              "      \n",
              "  <style>\n",
              "    .colab-df-container {\n",
              "      display:flex;\n",
              "      flex-wrap:wrap;\n",
              "      gap: 12px;\n",
              "    }\n",
              "\n",
              "    .colab-df-convert {\n",
              "      background-color: #E8F0FE;\n",
              "      border: none;\n",
              "      border-radius: 50%;\n",
              "      cursor: pointer;\n",
              "      display: none;\n",
              "      fill: #1967D2;\n",
              "      height: 32px;\n",
              "      padding: 0 0 0 0;\n",
              "      width: 32px;\n",
              "    }\n",
              "\n",
              "    .colab-df-convert:hover {\n",
              "      background-color: #E2EBFA;\n",
              "      box-shadow: 0px 1px 2px rgba(60, 64, 67, 0.3), 0px 1px 3px 1px rgba(60, 64, 67, 0.15);\n",
              "      fill: #174EA6;\n",
              "    }\n",
              "\n",
              "    [theme=dark] .colab-df-convert {\n",
              "      background-color: #3B4455;\n",
              "      fill: #D2E3FC;\n",
              "    }\n",
              "\n",
              "    [theme=dark] .colab-df-convert:hover {\n",
              "      background-color: #434B5C;\n",
              "      box-shadow: 0px 1px 3px 1px rgba(0, 0, 0, 0.15);\n",
              "      filter: drop-shadow(0px 1px 2px rgba(0, 0, 0, 0.3));\n",
              "      fill: #FFFFFF;\n",
              "    }\n",
              "  </style>\n",
              "\n",
              "      <script>\n",
              "        const buttonEl =\n",
              "          document.querySelector('#df-2cb748d0-e70b-4155-b9e1-96d3d82d128d button.colab-df-convert');\n",
              "        buttonEl.style.display =\n",
              "          google.colab.kernel.accessAllowed ? 'block' : 'none';\n",
              "\n",
              "        async function convertToInteractive(key) {\n",
              "          const element = document.querySelector('#df-2cb748d0-e70b-4155-b9e1-96d3d82d128d');\n",
              "          const dataTable =\n",
              "            await google.colab.kernel.invokeFunction('convertToInteractive',\n",
              "                                                     [key], {});\n",
              "          if (!dataTable) return;\n",
              "\n",
              "          const docLinkHtml = 'Like what you see? Visit the ' +\n",
              "            '<a target=\"_blank\" href=https://colab.research.google.com/notebooks/data_table.ipynb>data table notebook</a>'\n",
              "            + ' to learn more about interactive tables.';\n",
              "          element.innerHTML = '';\n",
              "          dataTable['output_type'] = 'display_data';\n",
              "          await google.colab.output.renderOutput(dataTable, element);\n",
              "          const docLink = document.createElement('div');\n",
              "          docLink.innerHTML = docLinkHtml;\n",
              "          element.appendChild(docLink);\n",
              "        }\n",
              "      </script>\n",
              "    </div>\n",
              "  </div>\n",
              "  "
            ]
          },
          "metadata": {},
          "execution_count": 20
        }
      ]
    },
    {
      "cell_type": "code",
      "source": [
        "x = df.drop(\"medv\", axis=1).values\n",
        "y = df[\"medv\"].values"
      ],
      "metadata": {
        "id": "aGGO-dEy7NiM"
      },
      "execution_count": 22,
      "outputs": []
    },
    {
      "cell_type": "code",
      "source": [
        "x.shape"
      ],
      "metadata": {
        "colab": {
          "base_uri": "https://localhost:8080/"
        },
        "id": "9LuMC1iOdXsO",
        "outputId": "40c1d2e5-b022-44f9-99fb-11e042eac6a6"
      },
      "execution_count": 23,
      "outputs": [
        {
          "output_type": "execute_result",
          "data": {
            "text/plain": [
              "(506, 13)"
            ]
          },
          "metadata": {},
          "execution_count": 23
        }
      ]
    },
    {
      "cell_type": "code",
      "source": [
        "y.shape"
      ],
      "metadata": {
        "colab": {
          "base_uri": "https://localhost:8080/"
        },
        "id": "Dzd2Blaad6Rz",
        "outputId": "dcbcd745-ef7a-4e9f-a1e3-4fb56210556e"
      },
      "execution_count": 24,
      "outputs": [
        {
          "output_type": "execute_result",
          "data": {
            "text/plain": [
              "(506,)"
            ]
          },
          "metadata": {},
          "execution_count": 24
        }
      ]
    },
    {
      "cell_type": "code",
      "source": [
        "x_train, x_test, y_train, y_test = train_test_split(x, y, test_size=0.2)"
      ],
      "metadata": {
        "id": "4UFAblzSd-Dv"
      },
      "execution_count": 25,
      "outputs": []
    },
    {
      "cell_type": "code",
      "source": [
        "def shape():\n",
        "  print(\"x_train Shape :\",x_train.shape)\n",
        "  print(\"x_test Shape :\",x_test.shape)\n",
        "  print(\"y_train shape :\",y_train.shape)\n",
        "  print(\"y_test shape :\",y_test.shape)\n",
        "shape()"
      ],
      "metadata": {
        "colab": {
          "base_uri": "https://localhost:8080/"
        },
        "id": "kSulftiHeBML",
        "outputId": "d087862e-a394-432f-df59-b544d905f29a"
      },
      "execution_count": 26,
      "outputs": [
        {
          "output_type": "stream",
          "name": "stdout",
          "text": [
            "x_train Shape : (404, 13)\n",
            "x_test Shape : (102, 13)\n",
            "y_train shape : (404,)\n",
            "y_test shape : (102,)\n"
          ]
        }
      ]
    },
    {
      "cell_type": "code",
      "source": [
        "mean=x_train.mean(axis=0)\n",
        "std=x_train.std(axis=0)\n",
        "x_train=(x_train-mean)/std\n",
        "x_test=(x_test-mean)/std"
      ],
      "metadata": {
        "id": "Kss3mJu2eDw5"
      },
      "execution_count": 28,
      "outputs": []
    },
    {
      "cell_type": "code",
      "source": [
        "x_train[0]"
      ],
      "metadata": {
        "colab": {
          "base_uri": "https://localhost:8080/"
        },
        "id": "y0D5SshGeKAj",
        "outputId": "8e7e86e7-ccc3-4340-dfe9-fd5c1efe25ae"
      },
      "execution_count": 29,
      "outputs": [
        {
          "output_type": "execute_result",
          "data": {
            "text/plain": [
              "array([-0.24131093, -0.47955836, -0.47858018, -0.26226526, -0.16524922,\n",
              "       -0.27213904,  0.99243662,  0.00410429, -0.66195789, -0.61834155,\n",
              "        1.1529886 , -1.23865407,  1.07559332])"
            ]
          },
          "metadata": {},
          "execution_count": 29
        }
      ]
    },
    {
      "cell_type": "code",
      "source": [
        "y_train[0]"
      ],
      "metadata": {
        "colab": {
          "base_uri": "https://localhost:8080/"
        },
        "id": "GC5YxG8AfYG9",
        "outputId": "35367d3f-4add-4507-a036-2d2bfb708197"
      },
      "execution_count": 30,
      "outputs": [
        {
          "output_type": "execute_result",
          "data": {
            "text/plain": [
              "13.5"
            ]
          },
          "metadata": {},
          "execution_count": 30
        }
      ]
    },
    {
      "cell_type": "code",
      "source": [
        "from tensorflow.keras.models import Sequential\n",
        "from tensorflow.keras.layers import Dense"
      ],
      "metadata": {
        "id": "wc8ej7qPfZP8"
      },
      "execution_count": 31,
      "outputs": []
    },
    {
      "cell_type": "code",
      "source": [
        "model=Sequential()\n",
        "model.add(Dense(128,activation='relu',input_shape=(x_train[0].shape)))\n",
        "model.add(Dense(64,activation='relu'))\n",
        "model.add(Dense(1,activation='linear'))\n",
        "model.compile(optimizer='adam', loss='mse', metrics=['mae'])\n",
        "model.summary()"
      ],
      "metadata": {
        "colab": {
          "base_uri": "https://localhost:8080/"
        },
        "id": "VxcCgalzfefX",
        "outputId": "7338db36-1b5b-41ef-98cd-b06812454577"
      },
      "execution_count": 32,
      "outputs": [
        {
          "output_type": "stream",
          "name": "stdout",
          "text": [
            "Model: \"sequential\"\n",
            "_________________________________________________________________\n",
            " Layer (type)                Output Shape              Param #   \n",
            "=================================================================\n",
            " dense (Dense)               (None, 128)               1792      \n",
            "                                                                 \n",
            " dense_1 (Dense)             (None, 64)                8256      \n",
            "                                                                 \n",
            " dense_2 (Dense)             (None, 1)                 65        \n",
            "                                                                 \n",
            "=================================================================\n",
            "Total params: 10,113\n",
            "Trainable params: 10,113\n",
            "Non-trainable params: 0\n",
            "_________________________________________________________________\n"
          ]
        }
      ]
    },
    {
      "cell_type": "code",
      "source": [
        "model.fit(x_train, y_train, epochs=100, batch_size=1, verbose=1,validation_data=(x_test, y_test))"
      ],
      "metadata": {
        "colab": {
          "base_uri": "https://localhost:8080/"
        },
        "id": "b4tTDFgsfjoZ",
        "outputId": "e8b36e85-cf38-4f00-d086-4fb46eedfbe7"
      },
      "execution_count": 33,
      "outputs": [
        {
          "output_type": "stream",
          "name": "stdout",
          "text": [
            "Epoch 1/100\n",
            "404/404 [==============================] - 4s 3ms/step - loss: 136.6644 - mae: 7.8068 - val_loss: 30.8004 - val_mae: 3.5174\n",
            "Epoch 2/100\n",
            "404/404 [==============================] - 1s 3ms/step - loss: 20.1361 - mae: 3.2717 - val_loss: 24.1857 - val_mae: 3.0784\n",
            "Epoch 3/100\n",
            "404/404 [==============================] - 1s 3ms/step - loss: 15.3221 - mae: 2.8146 - val_loss: 20.9659 - val_mae: 2.8108\n",
            "Epoch 4/100\n",
            "404/404 [==============================] - 1s 3ms/step - loss: 13.4532 - mae: 2.5812 - val_loss: 20.9513 - val_mae: 2.9781\n",
            "Epoch 5/100\n",
            "404/404 [==============================] - 1s 3ms/step - loss: 12.6008 - mae: 2.5179 - val_loss: 19.4484 - val_mae: 2.8257\n",
            "Epoch 6/100\n",
            "404/404 [==============================] - 1s 3ms/step - loss: 11.6067 - mae: 2.4639 - val_loss: 20.1075 - val_mae: 2.7780\n",
            "Epoch 7/100\n",
            "404/404 [==============================] - 1s 3ms/step - loss: 11.7256 - mae: 2.4839 - val_loss: 19.6380 - val_mae: 2.6339\n",
            "Epoch 8/100\n",
            "404/404 [==============================] - 1s 3ms/step - loss: 10.7416 - mae: 2.3567 - val_loss: 18.1107 - val_mae: 2.6044\n",
            "Epoch 9/100\n",
            "404/404 [==============================] - 2s 4ms/step - loss: 10.2423 - mae: 2.3185 - val_loss: 17.9337 - val_mae: 2.7335\n",
            "Epoch 10/100\n",
            "404/404 [==============================] - 1s 4ms/step - loss: 10.2416 - mae: 2.2692 - val_loss: 18.0241 - val_mae: 2.6933\n",
            "Epoch 11/100\n",
            "404/404 [==============================] - 1s 2ms/step - loss: 9.3784 - mae: 2.2534 - val_loss: 17.5357 - val_mae: 2.8430\n",
            "Epoch 12/100\n",
            "404/404 [==============================] - 1s 2ms/step - loss: 9.2953 - mae: 2.2763 - val_loss: 17.1254 - val_mae: 2.5193\n",
            "Epoch 13/100\n",
            "404/404 [==============================] - 1s 2ms/step - loss: 8.5507 - mae: 2.1744 - val_loss: 17.5944 - val_mae: 2.6336\n",
            "Epoch 14/100\n",
            "404/404 [==============================] - 1s 3ms/step - loss: 8.2209 - mae: 2.1039 - val_loss: 19.2176 - val_mae: 2.9572\n",
            "Epoch 15/100\n",
            "404/404 [==============================] - 1s 2ms/step - loss: 8.5868 - mae: 2.2043 - val_loss: 17.1384 - val_mae: 2.5687\n",
            "Epoch 16/100\n",
            "404/404 [==============================] - 1s 2ms/step - loss: 7.7549 - mae: 2.0206 - val_loss: 16.7644 - val_mae: 2.6839\n",
            "Epoch 17/100\n",
            "404/404 [==============================] - 1s 2ms/step - loss: 7.8591 - mae: 2.1023 - val_loss: 23.4320 - val_mae: 3.5153\n",
            "Epoch 18/100\n",
            "404/404 [==============================] - 1s 2ms/step - loss: 7.3630 - mae: 2.0327 - val_loss: 15.6583 - val_mae: 2.4796\n",
            "Epoch 19/100\n",
            "404/404 [==============================] - 1s 2ms/step - loss: 7.4998 - mae: 2.0209 - val_loss: 15.7019 - val_mae: 2.4413\n",
            "Epoch 20/100\n",
            "404/404 [==============================] - 1s 3ms/step - loss: 6.8661 - mae: 1.9509 - val_loss: 16.9258 - val_mae: 2.5434\n",
            "Epoch 21/100\n",
            "404/404 [==============================] - 1s 4ms/step - loss: 6.2879 - mae: 1.8578 - val_loss: 15.6958 - val_mae: 2.6076\n",
            "Epoch 22/100\n",
            "404/404 [==============================] - 1s 3ms/step - loss: 6.2622 - mae: 1.8942 - val_loss: 14.6113 - val_mae: 2.4013\n",
            "Epoch 23/100\n",
            "404/404 [==============================] - 1s 2ms/step - loss: 6.1891 - mae: 1.8517 - val_loss: 17.7018 - val_mae: 2.8039\n",
            "Epoch 24/100\n",
            "404/404 [==============================] - 1s 2ms/step - loss: 5.6693 - mae: 1.8001 - val_loss: 15.7279 - val_mae: 2.6922\n",
            "Epoch 25/100\n",
            "404/404 [==============================] - 1s 2ms/step - loss: 5.6830 - mae: 1.7821 - val_loss: 14.1011 - val_mae: 2.4520\n",
            "Epoch 26/100\n",
            "404/404 [==============================] - 1s 2ms/step - loss: 5.1372 - mae: 1.7129 - val_loss: 15.1696 - val_mae: 2.3321\n",
            "Epoch 27/100\n",
            "404/404 [==============================] - 1s 2ms/step - loss: 5.6231 - mae: 1.7410 - val_loss: 15.6948 - val_mae: 2.5794\n",
            "Epoch 28/100\n",
            "404/404 [==============================] - 1s 2ms/step - loss: 5.1969 - mae: 1.7247 - val_loss: 16.1948 - val_mae: 2.6220\n",
            "Epoch 29/100\n",
            "404/404 [==============================] - 1s 2ms/step - loss: 5.7417 - mae: 1.8098 - val_loss: 15.5407 - val_mae: 2.7850\n",
            "Epoch 30/100\n",
            "404/404 [==============================] - 1s 2ms/step - loss: 5.1917 - mae: 1.7382 - val_loss: 16.7540 - val_mae: 2.6586\n",
            "Epoch 31/100\n",
            "404/404 [==============================] - 1s 3ms/step - loss: 5.1091 - mae: 1.6721 - val_loss: 13.6713 - val_mae: 2.3933\n",
            "Epoch 32/100\n",
            "404/404 [==============================] - 1s 3ms/step - loss: 4.5222 - mae: 1.5845 - val_loss: 15.5070 - val_mae: 2.6215\n",
            "Epoch 33/100\n",
            "404/404 [==============================] - 1s 3ms/step - loss: 4.5830 - mae: 1.6199 - val_loss: 15.3710 - val_mae: 2.3857\n",
            "Epoch 34/100\n",
            "404/404 [==============================] - 2s 4ms/step - loss: 4.7169 - mae: 1.6699 - val_loss: 16.4129 - val_mae: 2.7326\n",
            "Epoch 35/100\n",
            "404/404 [==============================] - 1s 2ms/step - loss: 4.9342 - mae: 1.6339 - val_loss: 15.1864 - val_mae: 2.4444\n",
            "Epoch 36/100\n",
            "404/404 [==============================] - 1s 2ms/step - loss: 4.7674 - mae: 1.6454 - val_loss: 17.7915 - val_mae: 2.9168\n",
            "Epoch 37/100\n",
            "404/404 [==============================] - 1s 2ms/step - loss: 5.0011 - mae: 1.7149 - val_loss: 14.1167 - val_mae: 2.3969\n",
            "Epoch 38/100\n",
            "404/404 [==============================] - 1s 2ms/step - loss: 3.9769 - mae: 1.5116 - val_loss: 15.9106 - val_mae: 2.4790\n",
            "Epoch 39/100\n",
            "404/404 [==============================] - 1s 2ms/step - loss: 4.2352 - mae: 1.5624 - val_loss: 14.7973 - val_mae: 2.4536\n",
            "Epoch 40/100\n",
            "404/404 [==============================] - 1s 2ms/step - loss: 4.2741 - mae: 1.5499 - val_loss: 14.9400 - val_mae: 2.6176\n",
            "Epoch 41/100\n",
            "404/404 [==============================] - 1s 2ms/step - loss: 4.4032 - mae: 1.5774 - val_loss: 14.6634 - val_mae: 2.5837\n",
            "Epoch 42/100\n",
            "404/404 [==============================] - 1s 2ms/step - loss: 4.2863 - mae: 1.5799 - val_loss: 15.5393 - val_mae: 2.6371\n",
            "Epoch 43/100\n",
            "404/404 [==============================] - 1s 2ms/step - loss: 3.9746 - mae: 1.5316 - val_loss: 13.1232 - val_mae: 2.5437\n",
            "Epoch 44/100\n",
            "404/404 [==============================] - 1s 2ms/step - loss: 3.7906 - mae: 1.4752 - val_loss: 15.9382 - val_mae: 2.8199\n",
            "Epoch 45/100\n",
            "404/404 [==============================] - 1s 3ms/step - loss: 3.9328 - mae: 1.4969 - val_loss: 15.7723 - val_mae: 2.4845\n",
            "Epoch 46/100\n",
            "404/404 [==============================] - 1s 4ms/step - loss: 3.8866 - mae: 1.4727 - val_loss: 15.2751 - val_mae: 2.4454\n",
            "Epoch 47/100\n",
            "404/404 [==============================] - 1s 2ms/step - loss: 4.2137 - mae: 1.5665 - val_loss: 16.2068 - val_mae: 2.6071\n",
            "Epoch 48/100\n",
            "404/404 [==============================] - 1s 2ms/step - loss: 3.5794 - mae: 1.4056 - val_loss: 13.2897 - val_mae: 2.3752\n",
            "Epoch 49/100\n",
            "404/404 [==============================] - 1s 2ms/step - loss: 3.6010 - mae: 1.4432 - val_loss: 16.8904 - val_mae: 2.6852\n",
            "Epoch 50/100\n",
            "404/404 [==============================] - 1s 2ms/step - loss: 3.7584 - mae: 1.4638 - val_loss: 13.5109 - val_mae: 2.4574\n",
            "Epoch 51/100\n",
            "404/404 [==============================] - 1s 2ms/step - loss: 3.6458 - mae: 1.4569 - val_loss: 15.1109 - val_mae: 2.4388\n",
            "Epoch 52/100\n",
            "404/404 [==============================] - 1s 2ms/step - loss: 3.6045 - mae: 1.4561 - val_loss: 16.8876 - val_mae: 2.8952\n",
            "Epoch 53/100\n",
            "404/404 [==============================] - 1s 2ms/step - loss: 3.4496 - mae: 1.4041 - val_loss: 13.8240 - val_mae: 2.3710\n",
            "Epoch 54/100\n",
            "404/404 [==============================] - 1s 2ms/step - loss: 3.6522 - mae: 1.4627 - val_loss: 14.3457 - val_mae: 2.5330\n",
            "Epoch 55/100\n",
            "404/404 [==============================] - 1s 3ms/step - loss: 3.5695 - mae: 1.4478 - val_loss: 15.8890 - val_mae: 2.7697\n",
            "Epoch 56/100\n",
            "404/404 [==============================] - 1s 2ms/step - loss: 3.2968 - mae: 1.3424 - val_loss: 15.2273 - val_mae: 2.4813\n",
            "Epoch 57/100\n",
            "404/404 [==============================] - 1s 3ms/step - loss: 3.2636 - mae: 1.3528 - val_loss: 15.1978 - val_mae: 2.2897\n",
            "Epoch 58/100\n",
            "404/404 [==============================] - 2s 4ms/step - loss: 3.3938 - mae: 1.3959 - val_loss: 15.2444 - val_mae: 2.5714\n",
            "Epoch 59/100\n",
            "404/404 [==============================] - 1s 3ms/step - loss: 3.4223 - mae: 1.3779 - val_loss: 16.3299 - val_mae: 2.4901\n",
            "Epoch 60/100\n",
            "404/404 [==============================] - 1s 3ms/step - loss: 3.0781 - mae: 1.3167 - val_loss: 13.0674 - val_mae: 2.3204\n",
            "Epoch 61/100\n",
            "404/404 [==============================] - 1s 3ms/step - loss: 3.4539 - mae: 1.3970 - val_loss: 13.2780 - val_mae: 2.4628\n",
            "Epoch 62/100\n",
            "404/404 [==============================] - 1s 3ms/step - loss: 3.2887 - mae: 1.3972 - val_loss: 16.2049 - val_mae: 2.4294\n",
            "Epoch 63/100\n",
            "404/404 [==============================] - 1s 3ms/step - loss: 3.2456 - mae: 1.3448 - val_loss: 14.7275 - val_mae: 2.5040\n",
            "Epoch 64/100\n",
            "404/404 [==============================] - 1s 3ms/step - loss: 3.2763 - mae: 1.3967 - val_loss: 14.9639 - val_mae: 2.5650\n",
            "Epoch 65/100\n",
            "404/404 [==============================] - 1s 3ms/step - loss: 3.2231 - mae: 1.2991 - val_loss: 13.2840 - val_mae: 2.3953\n",
            "Epoch 66/100\n",
            "404/404 [==============================] - 1s 2ms/step - loss: 2.8913 - mae: 1.2715 - val_loss: 14.1363 - val_mae: 2.4150\n",
            "Epoch 67/100\n",
            "404/404 [==============================] - 1s 3ms/step - loss: 2.7326 - mae: 1.2747 - val_loss: 12.6424 - val_mae: 2.2881\n",
            "Epoch 68/100\n",
            "404/404 [==============================] - 1s 3ms/step - loss: 2.8657 - mae: 1.2680 - val_loss: 12.9003 - val_mae: 2.3721\n",
            "Epoch 69/100\n",
            "404/404 [==============================] - 2s 4ms/step - loss: 3.2212 - mae: 1.3830 - val_loss: 13.7329 - val_mae: 2.3133\n",
            "Epoch 70/100\n",
            "404/404 [==============================] - 1s 3ms/step - loss: 3.2940 - mae: 1.3880 - val_loss: 13.8897 - val_mae: 2.2793\n",
            "Epoch 71/100\n",
            "404/404 [==============================] - 1s 3ms/step - loss: 2.4895 - mae: 1.1732 - val_loss: 14.8373 - val_mae: 2.6286\n",
            "Epoch 72/100\n",
            "404/404 [==============================] - 1s 3ms/step - loss: 3.1023 - mae: 1.3561 - val_loss: 13.4200 - val_mae: 2.3584\n",
            "Epoch 73/100\n",
            "404/404 [==============================] - 1s 3ms/step - loss: 3.1915 - mae: 1.3322 - val_loss: 13.5796 - val_mae: 2.2455\n",
            "Epoch 74/100\n",
            "404/404 [==============================] - 2s 4ms/step - loss: 2.5075 - mae: 1.2238 - val_loss: 14.5319 - val_mae: 2.4027\n",
            "Epoch 75/100\n",
            "404/404 [==============================] - 1s 3ms/step - loss: 2.7801 - mae: 1.2733 - val_loss: 10.5155 - val_mae: 2.1286\n",
            "Epoch 76/100\n",
            "404/404 [==============================] - 1s 3ms/step - loss: 3.0695 - mae: 1.3041 - val_loss: 13.1719 - val_mae: 2.3675\n",
            "Epoch 77/100\n",
            "404/404 [==============================] - 1s 3ms/step - loss: 2.5481 - mae: 1.1887 - val_loss: 13.0596 - val_mae: 2.2698\n",
            "Epoch 78/100\n",
            "404/404 [==============================] - 1s 4ms/step - loss: 2.7780 - mae: 1.2726 - val_loss: 13.2287 - val_mae: 2.3175\n",
            "Epoch 79/100\n",
            "404/404 [==============================] - 2s 5ms/step - loss: 2.3064 - mae: 1.1812 - val_loss: 11.9297 - val_mae: 2.1772\n",
            "Epoch 80/100\n",
            "404/404 [==============================] - 1s 3ms/step - loss: 2.7366 - mae: 1.2206 - val_loss: 12.2169 - val_mae: 2.1222\n",
            "Epoch 81/100\n",
            "404/404 [==============================] - 1s 3ms/step - loss: 2.3063 - mae: 1.1496 - val_loss: 13.2250 - val_mae: 2.3056\n",
            "Epoch 82/100\n",
            "404/404 [==============================] - 1s 3ms/step - loss: 2.6976 - mae: 1.2637 - val_loss: 11.3717 - val_mae: 2.0902\n",
            "Epoch 83/100\n",
            "404/404 [==============================] - 1s 3ms/step - loss: 2.3577 - mae: 1.1542 - val_loss: 12.0079 - val_mae: 2.2978\n",
            "Epoch 84/100\n",
            "404/404 [==============================] - 1s 3ms/step - loss: 2.5652 - mae: 1.2002 - val_loss: 12.7958 - val_mae: 2.1796\n",
            "Epoch 85/100\n",
            "404/404 [==============================] - 1s 3ms/step - loss: 2.4742 - mae: 1.1937 - val_loss: 12.9142 - val_mae: 2.3620\n",
            "Epoch 86/100\n",
            "404/404 [==============================] - 1s 3ms/step - loss: 2.4552 - mae: 1.2056 - val_loss: 12.4248 - val_mae: 2.2370\n",
            "Epoch 87/100\n",
            "404/404 [==============================] - 1s 3ms/step - loss: 3.0185 - mae: 1.2542 - val_loss: 15.5423 - val_mae: 2.5516\n",
            "Epoch 88/100\n",
            "404/404 [==============================] - 1s 3ms/step - loss: 2.5573 - mae: 1.1947 - val_loss: 13.5991 - val_mae: 2.3642\n",
            "Epoch 89/100\n",
            "404/404 [==============================] - 1s 3ms/step - loss: 2.5146 - mae: 1.1791 - val_loss: 14.2935 - val_mae: 2.4091\n",
            "Epoch 90/100\n",
            "404/404 [==============================] - 2s 4ms/step - loss: 2.6836 - mae: 1.2235 - val_loss: 13.9289 - val_mae: 2.3454\n",
            "Epoch 91/100\n",
            "404/404 [==============================] - 1s 3ms/step - loss: 2.2069 - mae: 1.1256 - val_loss: 12.2441 - val_mae: 2.2276\n",
            "Epoch 92/100\n",
            "404/404 [==============================] - 1s 3ms/step - loss: 2.1866 - mae: 1.1068 - val_loss: 13.9289 - val_mae: 2.3878\n",
            "Epoch 93/100\n",
            "404/404 [==============================] - 1s 3ms/step - loss: 2.5030 - mae: 1.1602 - val_loss: 13.4290 - val_mae: 2.3066\n",
            "Epoch 94/100\n",
            "404/404 [==============================] - 1s 3ms/step - loss: 2.0563 - mae: 1.0827 - val_loss: 12.8994 - val_mae: 2.1906\n",
            "Epoch 95/100\n",
            "404/404 [==============================] - 1s 3ms/step - loss: 2.1753 - mae: 1.0938 - val_loss: 12.1313 - val_mae: 2.3388\n",
            "Epoch 96/100\n",
            "404/404 [==============================] - 1s 3ms/step - loss: 2.3847 - mae: 1.1527 - val_loss: 12.5699 - val_mae: 2.2310\n",
            "Epoch 97/100\n",
            "404/404 [==============================] - 1s 3ms/step - loss: 2.0951 - mae: 1.0887 - val_loss: 11.7954 - val_mae: 2.1623\n",
            "Epoch 98/100\n",
            "404/404 [==============================] - 1s 3ms/step - loss: 1.9971 - mae: 1.0997 - val_loss: 14.3343 - val_mae: 2.3370\n",
            "Epoch 99/100\n",
            "404/404 [==============================] - 2s 4ms/step - loss: 2.2026 - mae: 1.1044 - val_loss: 12.2318 - val_mae: 2.1714\n",
            "Epoch 100/100\n",
            "404/404 [==============================] - 2s 5ms/step - loss: 1.8505 - mae: 1.0173 - val_loss: 11.9049 - val_mae: 2.2062\n"
          ]
        },
        {
          "output_type": "execute_result",
          "data": {
            "text/plain": [
              "<keras.callbacks.History at 0x7fe27e59f970>"
            ]
          },
          "metadata": {},
          "execution_count": 33
        }
      ]
    },
    {
      "cell_type": "code",
      "source": [
        "test_input=[[-0.42101827, -0.50156705, -1.13081973, -0.25683275, -0.55572682,\n",
        "0.19758953, 0.20684755, -0.34272202, -0.87422469, -0.84336666,\n",
        "-0.32505625, 0.41244772, -0.63500406]]"
      ],
      "metadata": {
        "id": "rKl6H0jxfrbp"
      },
      "execution_count": 34,
      "outputs": []
    },
    {
      "cell_type": "code",
      "source": [
        "print(\"Actual Output :\",y_test[8])\n",
        "print(\"Predicted Output :\",model.predict(test_input))"
      ],
      "metadata": {
        "colab": {
          "base_uri": "https://localhost:8080/"
        },
        "id": "wvh8fZ0KgTk2",
        "outputId": "c4aa9264-f78b-45fb-f0e7-51fd20c5734d"
      },
      "execution_count": 35,
      "outputs": [
        {
          "output_type": "stream",
          "name": "stdout",
          "text": [
            "Actual Output : 13.1\n",
            "1/1 [==============================] - 0s 305ms/step\n",
            "Predicted Output : [[24.87087]]\n"
          ]
        }
      ]
    },
    {
      "cell_type": "code",
      "source": [
        "mse_nn,mae_nn=model.evaluate(x_test,y_test)\n",
        "print('Mean squared error on test data :',mse_nn)\n",
        "print('Mean absolute error on test data :',mae_nn)"
      ],
      "metadata": {
        "colab": {
          "base_uri": "https://localhost:8080/"
        },
        "id": "be0I98dmgW8k",
        "outputId": "377173ba-5fc3-4f1c-80c7-47a349f4ade6"
      },
      "execution_count": 36,
      "outputs": [
        {
          "output_type": "stream",
          "name": "stdout",
          "text": [
            "4/4 [==============================] - 0s 5ms/step - loss: 11.9049 - mae: 2.2062\n",
            "Mean squared error on test data : 11.904853820800781\n",
            "Mean absolute error on test data : 2.206244468688965\n"
          ]
        }
      ]
    },
    {
      "cell_type": "code",
      "source": [
        "from sklearn.metrics import r2_score\n",
        "y_dl=model.predict(x_test)\n",
        "r2=r2_score(y_test,y_dl)\n",
        "print('R2 Score :',r2)"
      ],
      "metadata": {
        "colab": {
          "base_uri": "https://localhost:8080/"
        },
        "id": "gux9nCIcgb0a",
        "outputId": "5676e3e2-fa78-46af-d115-73f84bfd2ce4"
      },
      "execution_count": 37,
      "outputs": [
        {
          "output_type": "stream",
          "name": "stdout",
          "text": [
            "4/4 [==============================] - 0s 9ms/step\n",
            "R2 Score : 0.8619575018475063\n"
          ]
        }
      ]
    },
    {
      "cell_type": "code",
      "source": [],
      "metadata": {
        "id": "BgFkrS6Qge7Z"
      },
      "execution_count": null,
      "outputs": []
    }
  ]
}