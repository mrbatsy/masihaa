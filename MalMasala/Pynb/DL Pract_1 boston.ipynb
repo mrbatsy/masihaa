{
  "nbformat": 4,
  "nbformat_minor": 0,
  "metadata": {
    "colab": {
      "provenance": []
    },
    "kernelspec": {
      "name": "python3",
      "display_name": "Python 3"
    },
    "language_info": {
      "name": "python"
    }
  },
  "cells": [
    {
      "cell_type": "code",
      "execution_count": 1,
      "metadata": {
        "id": "c7jULOYUFLJy"
      },
      "outputs": [],
      "source": [
        "import tensorflow as tf\n",
        "import pandas as pd\n",
        "from keras.datasets import boston_housing\n",
        "from sklearn.preprocessing import StandardScaler\n",
        "from sklearn.model_selection import train_test_split"
      ]
    },
    {
      "cell_type": "code",
      "source": [
        "df=pd.read_csv(\"/content/HousingData.csv\")"
      ],
      "metadata": {
        "id": "SLvkAu4ZFoI7"
      },
      "execution_count": 6,
      "outputs": []
    },
    {
      "cell_type": "code",
      "source": [
        "x=df.drop(['MEDV'],axis=1)\n",
        "y=df['MEDV']"
      ],
      "metadata": {
        "id": "fh9DPjp-GAFr"
      },
      "execution_count": 8,
      "outputs": []
    },
    {
      "cell_type": "code",
      "source": [
        "train_x,test_x,train_y,test_y=train_test_split(x,y,random_state=42,test_size=0.20)"
      ],
      "metadata": {
        "id": "RCQ7UMBKHgyc"
      },
      "execution_count": 9,
      "outputs": []
    },
    {
      "cell_type": "code",
      "source": [
        "print(train_x.shape)\n",
        "print(train_y.shape)\n",
        "print(test_x.shape)\n",
        "print(test_y.shape)"
      ],
      "metadata": {
        "colab": {
          "base_uri": "https://localhost:8080/"
        },
        "id": "Vae7rUwpHmb2",
        "outputId": "dfb90a52-3f7f-4fca-f38b-69c26c575126"
      },
      "execution_count": 10,
      "outputs": [
        {
          "output_type": "stream",
          "name": "stdout",
          "text": [
            "(404, 13)\n",
            "(404,)\n",
            "(102, 13)\n",
            "(102,)\n"
          ]
        }
      ]
    },
    {
      "cell_type": "code",
      "source": [
        "test_y.head(n=10)\n"
      ],
      "metadata": {
        "colab": {
          "base_uri": "https://localhost:8080/"
        },
        "id": "tl404zKiHr62",
        "outputId": "57a5e295-20ec-4709-c9eb-ff5d05da67f2"
      },
      "execution_count": 11,
      "outputs": [
        {
          "output_type": "execute_result",
          "data": {
            "text/plain": [
              "173    23.6\n",
              "274    32.4\n",
              "491    13.6\n",
              "72     22.8\n",
              "452    16.1\n",
              "76     20.0\n",
              "316    17.8\n",
              "140    14.0\n",
              "471    19.6\n",
              "500    16.8\n",
              "Name: MEDV, dtype: float64"
            ]
          },
          "metadata": {},
          "execution_count": 11
        }
      ]
    },
    {
      "cell_type": "code",
      "source": [
        "sc=StandardScaler()\n",
        "train_x=sc.fit_transform(train_x)\n",
        "test_x=sc.transform(test_x)"
      ],
      "metadata": {
        "id": "CauzpzTGHyAO"
      },
      "execution_count": 12,
      "outputs": []
    },
    {
      "cell_type": "code",
      "source": [
        "from keras.models import Sequential\n",
        "from keras.layers import *"
      ],
      "metadata": {
        "id": "LUg9ysQkH5-L"
      },
      "execution_count": 13,
      "outputs": []
    },
    {
      "cell_type": "code",
      "source": [
        "def housePrice():\n",
        "  model=Sequential()\n",
        "  model.add(Dense(128,activation='relu',input_dim=13))\n",
        "  model.add(Dense(64,activation='relu'))\n",
        "  model.add(Dense(32,activation='relu'))\n",
        "  model.add(Dense(16,activation='relu'))\n",
        "  model.add(Dense(1))\n",
        "  model.compile(optimizer='adam',loss='mean_squared_error',metrics=['mae'])\n",
        "  return model"
      ],
      "metadata": {
        "id": "oysTvYR8H-Rv"
      },
      "execution_count": 14,
      "outputs": []
    },
    {
      "cell_type": "code",
      "source": [
        "model=housePrice()\n",
        "history=model.fit(train_x,train_y,epochs=100,batch_size=1,verbose=1,validation_data=(test_x,test_y))"
      ],
      "metadata": {
        "colab": {
          "base_uri": "https://localhost:8080/"
        },
        "id": "7LXaVGnjICwc",
        "outputId": "6f915662-4aa2-45fd-fe1a-d161a11a1142"
      },
      "execution_count": 15,
      "outputs": [
        {
          "output_type": "stream",
          "name": "stdout",
          "text": [
            "Epoch 1/100\n",
            "404/404 [==============================] - 2s 3ms/step - loss: nan - mae: nan - val_loss: nan - val_mae: nan\n",
            "Epoch 2/100\n",
            "404/404 [==============================] - 1s 3ms/step - loss: nan - mae: nan - val_loss: nan - val_mae: nan\n",
            "Epoch 3/100\n",
            "404/404 [==============================] - 2s 4ms/step - loss: nan - mae: nan - val_loss: nan - val_mae: nan\n",
            "Epoch 4/100\n",
            "404/404 [==============================] - 1s 3ms/step - loss: nan - mae: nan - val_loss: nan - val_mae: nan\n",
            "Epoch 5/100\n",
            "404/404 [==============================] - 1s 2ms/step - loss: nan - mae: nan - val_loss: nan - val_mae: nan\n",
            "Epoch 6/100\n",
            "404/404 [==============================] - 1s 2ms/step - loss: nan - mae: nan - val_loss: nan - val_mae: nan\n",
            "Epoch 7/100\n",
            "404/404 [==============================] - 1s 2ms/step - loss: nan - mae: nan - val_loss: nan - val_mae: nan\n",
            "Epoch 8/100\n",
            "404/404 [==============================] - 1s 2ms/step - loss: nan - mae: nan - val_loss: nan - val_mae: nan\n",
            "Epoch 9/100\n",
            "404/404 [==============================] - 1s 2ms/step - loss: nan - mae: nan - val_loss: nan - val_mae: nan\n",
            "Epoch 10/100\n",
            "404/404 [==============================] - 1s 2ms/step - loss: nan - mae: nan - val_loss: nan - val_mae: nan\n",
            "Epoch 11/100\n",
            "404/404 [==============================] - 1s 2ms/step - loss: nan - mae: nan - val_loss: nan - val_mae: nan\n",
            "Epoch 12/100\n",
            "404/404 [==============================] - 1s 2ms/step - loss: nan - mae: nan - val_loss: nan - val_mae: nan\n",
            "Epoch 13/100\n",
            "404/404 [==============================] - 1s 2ms/step - loss: nan - mae: nan - val_loss: nan - val_mae: nan\n",
            "Epoch 14/100\n",
            "404/404 [==============================] - 1s 3ms/step - loss: nan - mae: nan - val_loss: nan - val_mae: nan\n",
            "Epoch 15/100\n",
            "404/404 [==============================] - 2s 4ms/step - loss: nan - mae: nan - val_loss: nan - val_mae: nan\n",
            "Epoch 16/100\n",
            "404/404 [==============================] - 1s 3ms/step - loss: nan - mae: nan - val_loss: nan - val_mae: nan\n",
            "Epoch 17/100\n",
            "404/404 [==============================] - 1s 2ms/step - loss: nan - mae: nan - val_loss: nan - val_mae: nan\n",
            "Epoch 18/100\n",
            "404/404 [==============================] - 1s 2ms/step - loss: nan - mae: nan - val_loss: nan - val_mae: nan\n",
            "Epoch 19/100\n",
            "404/404 [==============================] - 1s 2ms/step - loss: nan - mae: nan - val_loss: nan - val_mae: nan\n",
            "Epoch 20/100\n",
            "404/404 [==============================] - 1s 2ms/step - loss: nan - mae: nan - val_loss: nan - val_mae: nan\n",
            "Epoch 21/100\n",
            "404/404 [==============================] - 1s 2ms/step - loss: nan - mae: nan - val_loss: nan - val_mae: nan\n",
            "Epoch 22/100\n",
            "404/404 [==============================] - 1s 2ms/step - loss: nan - mae: nan - val_loss: nan - val_mae: nan\n",
            "Epoch 23/100\n",
            "404/404 [==============================] - 1s 2ms/step - loss: nan - mae: nan - val_loss: nan - val_mae: nan\n",
            "Epoch 24/100\n",
            "404/404 [==============================] - 1s 2ms/step - loss: nan - mae: nan - val_loss: nan - val_mae: nan\n",
            "Epoch 25/100\n",
            "404/404 [==============================] - 1s 2ms/step - loss: nan - mae: nan - val_loss: nan - val_mae: nan\n",
            "Epoch 26/100\n",
            "404/404 [==============================] - 1s 3ms/step - loss: nan - mae: nan - val_loss: nan - val_mae: nan\n",
            "Epoch 27/100\n",
            "404/404 [==============================] - 2s 4ms/step - loss: nan - mae: nan - val_loss: nan - val_mae: nan\n",
            "Epoch 28/100\n",
            "404/404 [==============================] - 1s 3ms/step - loss: nan - mae: nan - val_loss: nan - val_mae: nan\n",
            "Epoch 29/100\n",
            "404/404 [==============================] - 1s 2ms/step - loss: nan - mae: nan - val_loss: nan - val_mae: nan\n",
            "Epoch 30/100\n",
            "404/404 [==============================] - 1s 2ms/step - loss: nan - mae: nan - val_loss: nan - val_mae: nan\n",
            "Epoch 31/100\n",
            "404/404 [==============================] - 1s 2ms/step - loss: nan - mae: nan - val_loss: nan - val_mae: nan\n",
            "Epoch 32/100\n",
            "404/404 [==============================] - 1s 2ms/step - loss: nan - mae: nan - val_loss: nan - val_mae: nan\n",
            "Epoch 33/100\n",
            "404/404 [==============================] - 1s 2ms/step - loss: nan - mae: nan - val_loss: nan - val_mae: nan\n",
            "Epoch 34/100\n",
            "404/404 [==============================] - 1s 3ms/step - loss: nan - mae: nan - val_loss: nan - val_mae: nan\n",
            "Epoch 35/100\n",
            "404/404 [==============================] - 1s 2ms/step - loss: nan - mae: nan - val_loss: nan - val_mae: nan\n",
            "Epoch 36/100\n",
            "404/404 [==============================] - 1s 2ms/step - loss: nan - mae: nan - val_loss: nan - val_mae: nan\n",
            "Epoch 37/100\n",
            "404/404 [==============================] - 1s 2ms/step - loss: nan - mae: nan - val_loss: nan - val_mae: nan\n",
            "Epoch 38/100\n",
            "404/404 [==============================] - 1s 3ms/step - loss: nan - mae: nan - val_loss: nan - val_mae: nan\n",
            "Epoch 39/100\n",
            "404/404 [==============================] - 2s 4ms/step - loss: nan - mae: nan - val_loss: nan - val_mae: nan\n",
            "Epoch 40/100\n",
            "404/404 [==============================] - 1s 3ms/step - loss: nan - mae: nan - val_loss: nan - val_mae: nan\n",
            "Epoch 41/100\n",
            "404/404 [==============================] - 1s 2ms/step - loss: nan - mae: nan - val_loss: nan - val_mae: nan\n",
            "Epoch 42/100\n",
            "404/404 [==============================] - 1s 2ms/step - loss: nan - mae: nan - val_loss: nan - val_mae: nan\n",
            "Epoch 43/100\n",
            "404/404 [==============================] - 1s 2ms/step - loss: nan - mae: nan - val_loss: nan - val_mae: nan\n",
            "Epoch 44/100\n",
            "404/404 [==============================] - 1s 2ms/step - loss: nan - mae: nan - val_loss: nan - val_mae: nan\n",
            "Epoch 45/100\n",
            "404/404 [==============================] - 1s 3ms/step - loss: nan - mae: nan - val_loss: nan - val_mae: nan\n",
            "Epoch 46/100\n",
            "404/404 [==============================] - 1s 2ms/step - loss: nan - mae: nan - val_loss: nan - val_mae: nan\n",
            "Epoch 47/100\n",
            "404/404 [==============================] - 1s 2ms/step - loss: nan - mae: nan - val_loss: nan - val_mae: nan\n",
            "Epoch 48/100\n",
            "404/404 [==============================] - 1s 2ms/step - loss: nan - mae: nan - val_loss: nan - val_mae: nan\n",
            "Epoch 49/100\n",
            "404/404 [==============================] - 1s 2ms/step - loss: nan - mae: nan - val_loss: nan - val_mae: nan\n",
            "Epoch 50/100\n",
            "404/404 [==============================] - 1s 3ms/step - loss: nan - mae: nan - val_loss: nan - val_mae: nan\n",
            "Epoch 51/100\n",
            "404/404 [==============================] - 2s 4ms/step - loss: nan - mae: nan - val_loss: nan - val_mae: nan\n",
            "Epoch 52/100\n",
            "404/404 [==============================] - 1s 3ms/step - loss: nan - mae: nan - val_loss: nan - val_mae: nan\n",
            "Epoch 53/100\n",
            "404/404 [==============================] - 1s 3ms/step - loss: nan - mae: nan - val_loss: nan - val_mae: nan\n",
            "Epoch 54/100\n",
            "404/404 [==============================] - 1s 2ms/step - loss: nan - mae: nan - val_loss: nan - val_mae: nan\n",
            "Epoch 55/100\n",
            "404/404 [==============================] - 1s 2ms/step - loss: nan - mae: nan - val_loss: nan - val_mae: nan\n",
            "Epoch 56/100\n",
            "404/404 [==============================] - 1s 2ms/step - loss: nan - mae: nan - val_loss: nan - val_mae: nan\n",
            "Epoch 57/100\n",
            "404/404 [==============================] - 1s 2ms/step - loss: nan - mae: nan - val_loss: nan - val_mae: nan\n",
            "Epoch 58/100\n",
            "404/404 [==============================] - 1s 2ms/step - loss: nan - mae: nan - val_loss: nan - val_mae: nan\n",
            "Epoch 59/100\n",
            "404/404 [==============================] - 1s 2ms/step - loss: nan - mae: nan - val_loss: nan - val_mae: nan\n",
            "Epoch 60/100\n",
            "404/404 [==============================] - 1s 2ms/step - loss: nan - mae: nan - val_loss: nan - val_mae: nan\n",
            "Epoch 61/100\n",
            "404/404 [==============================] - 1s 2ms/step - loss: nan - mae: nan - val_loss: nan - val_mae: nan\n",
            "Epoch 62/100\n",
            "404/404 [==============================] - 1s 3ms/step - loss: nan - mae: nan - val_loss: nan - val_mae: nan\n",
            "Epoch 63/100\n",
            "404/404 [==============================] - 1s 4ms/step - loss: nan - mae: nan - val_loss: nan - val_mae: nan\n",
            "Epoch 64/100\n",
            "404/404 [==============================] - 1s 3ms/step - loss: nan - mae: nan - val_loss: nan - val_mae: nan\n",
            "Epoch 65/100\n",
            "404/404 [==============================] - 1s 2ms/step - loss: nan - mae: nan - val_loss: nan - val_mae: nan\n",
            "Epoch 66/100\n",
            "404/404 [==============================] - 1s 2ms/step - loss: nan - mae: nan - val_loss: nan - val_mae: nan\n",
            "Epoch 67/100\n",
            "404/404 [==============================] - 1s 2ms/step - loss: nan - mae: nan - val_loss: nan - val_mae: nan\n",
            "Epoch 68/100\n",
            "404/404 [==============================] - 1s 2ms/step - loss: nan - mae: nan - val_loss: nan - val_mae: nan\n",
            "Epoch 69/100\n",
            "404/404 [==============================] - 1s 2ms/step - loss: nan - mae: nan - val_loss: nan - val_mae: nan\n",
            "Epoch 70/100\n",
            "404/404 [==============================] - 1s 2ms/step - loss: nan - mae: nan - val_loss: nan - val_mae: nan\n",
            "Epoch 71/100\n",
            "404/404 [==============================] - 1s 3ms/step - loss: nan - mae: nan - val_loss: nan - val_mae: nan\n",
            "Epoch 72/100\n",
            "404/404 [==============================] - 1s 3ms/step - loss: nan - mae: nan - val_loss: nan - val_mae: nan\n",
            "Epoch 73/100\n",
            "404/404 [==============================] - 1s 2ms/step - loss: nan - mae: nan - val_loss: nan - val_mae: nan\n",
            "Epoch 74/100\n",
            "404/404 [==============================] - 1s 3ms/step - loss: nan - mae: nan - val_loss: nan - val_mae: nan\n",
            "Epoch 75/100\n",
            "404/404 [==============================] - 3s 8ms/step - loss: nan - mae: nan - val_loss: nan - val_mae: nan\n",
            "Epoch 76/100\n",
            "404/404 [==============================] - 1s 4ms/step - loss: nan - mae: nan - val_loss: nan - val_mae: nan\n",
            "Epoch 77/100\n",
            "404/404 [==============================] - 1s 2ms/step - loss: nan - mae: nan - val_loss: nan - val_mae: nan\n",
            "Epoch 78/100\n",
            "404/404 [==============================] - 1s 2ms/step - loss: nan - mae: nan - val_loss: nan - val_mae: nan\n",
            "Epoch 79/100\n",
            "404/404 [==============================] - 1s 2ms/step - loss: nan - mae: nan - val_loss: nan - val_mae: nan\n",
            "Epoch 80/100\n",
            "404/404 [==============================] - 1s 2ms/step - loss: nan - mae: nan - val_loss: nan - val_mae: nan\n",
            "Epoch 81/100\n",
            "404/404 [==============================] - 1s 2ms/step - loss: nan - mae: nan - val_loss: nan - val_mae: nan\n",
            "Epoch 82/100\n",
            "404/404 [==============================] - 1s 2ms/step - loss: nan - mae: nan - val_loss: nan - val_mae: nan\n",
            "Epoch 83/100\n",
            "404/404 [==============================] - 1s 3ms/step - loss: nan - mae: nan - val_loss: nan - val_mae: nan\n",
            "Epoch 84/100\n",
            "404/404 [==============================] - 1s 2ms/step - loss: nan - mae: nan - val_loss: nan - val_mae: nan\n",
            "Epoch 85/100\n",
            "404/404 [==============================] - 2s 4ms/step - loss: nan - mae: nan - val_loss: nan - val_mae: nan\n",
            "Epoch 86/100\n",
            "404/404 [==============================] - 2s 4ms/step - loss: nan - mae: nan - val_loss: nan - val_mae: nan\n",
            "Epoch 87/100\n",
            "404/404 [==============================] - 1s 2ms/step - loss: nan - mae: nan - val_loss: nan - val_mae: nan\n",
            "Epoch 88/100\n",
            "404/404 [==============================] - 1s 2ms/step - loss: nan - mae: nan - val_loss: nan - val_mae: nan\n",
            "Epoch 89/100\n",
            "404/404 [==============================] - 1s 2ms/step - loss: nan - mae: nan - val_loss: nan - val_mae: nan\n",
            "Epoch 90/100\n",
            "404/404 [==============================] - 1s 2ms/step - loss: nan - mae: nan - val_loss: nan - val_mae: nan\n",
            "Epoch 91/100\n",
            "404/404 [==============================] - 1s 3ms/step - loss: nan - mae: nan - val_loss: nan - val_mae: nan\n",
            "Epoch 92/100\n",
            "404/404 [==============================] - 1s 2ms/step - loss: nan - mae: nan - val_loss: nan - val_mae: nan\n",
            "Epoch 93/100\n",
            "404/404 [==============================] - 1s 3ms/step - loss: nan - mae: nan - val_loss: nan - val_mae: nan\n",
            "Epoch 94/100\n",
            "404/404 [==============================] - 1s 2ms/step - loss: nan - mae: nan - val_loss: nan - val_mae: nan\n",
            "Epoch 95/100\n",
            "404/404 [==============================] - 1s 2ms/step - loss: nan - mae: nan - val_loss: nan - val_mae: nan\n",
            "Epoch 96/100\n",
            "404/404 [==============================] - 1s 2ms/step - loss: nan - mae: nan - val_loss: nan - val_mae: nan\n",
            "Epoch 97/100\n",
            "404/404 [==============================] - 2s 4ms/step - loss: nan - mae: nan - val_loss: nan - val_mae: nan\n",
            "Epoch 98/100\n",
            "404/404 [==============================] - 2s 4ms/step - loss: nan - mae: nan - val_loss: nan - val_mae: nan\n",
            "Epoch 99/100\n",
            "404/404 [==============================] - 1s 2ms/step - loss: nan - mae: nan - val_loss: nan - val_mae: nan\n",
            "Epoch 100/100\n",
            "404/404 [==============================] - 1s 2ms/step - loss: nan - mae: nan - val_loss: nan - val_mae: nan\n"
          ]
        }
      ]
    },
    {
      "cell_type": "code",
      "source": [
        "test_y"
      ],
      "metadata": {
        "colab": {
          "base_uri": "https://localhost:8080/"
        },
        "id": "CZ36dgTSIkrE",
        "outputId": "3c9a657d-672a-41ef-ac1d-9e412b42fd92"
      },
      "execution_count": 16,
      "outputs": [
        {
          "output_type": "execute_result",
          "data": {
            "text/plain": [
              "173    23.6\n",
              "274    32.4\n",
              "491    13.6\n",
              "72     22.8\n",
              "452    16.1\n",
              "       ... \n",
              "412    17.9\n",
              "436     9.6\n",
              "411    17.2\n",
              "86     22.5\n",
              "75     21.4\n",
              "Name: MEDV, Length: 102, dtype: float64"
            ]
          },
          "metadata": {},
          "execution_count": 16
        }
      ]
    },
    {
      "cell_type": "code",
      "source": [
        "input=[[-0.39680933, -0.50032012, -1.00711147, -0.27808871, -0.39541229,\n",
        "        0.14128239,  0.55591643, -0.54585271, -0.50779731, -0.65092617,\n",
        "       -0.77195078,  0.42887165, -0.48121032]]\n",
        "output=23.6\n",
        "print(\"Actual output : \",output)\n",
        "print(\"Predicted output : \",model.predict(input))"
      ],
      "metadata": {
        "colab": {
          "base_uri": "https://localhost:8080/"
        },
        "id": "kAIRKxA7IqAB",
        "outputId": "30418341-9b52-46e1-ea84-edc71e81e77e"
      },
      "execution_count": 18,
      "outputs": [
        {
          "output_type": "stream",
          "name": "stdout",
          "text": [
            "Actual output :  23.6\n",
            "1/1 [==============================] - 0s 42ms/step\n",
            "Predicted output :  [[nan]]\n"
          ]
        }
      ]
    }
  ]
}