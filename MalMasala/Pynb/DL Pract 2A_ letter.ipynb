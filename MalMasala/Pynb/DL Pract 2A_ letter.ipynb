{
  "nbformat": 4,
  "nbformat_minor": 0,
  "metadata": {
    "colab": {
      "provenance": []
    },
    "kernelspec": {
      "name": "python3",
      "display_name": "Python 3"
    },
    "language_info": {
      "name": "python"
    }
  },
  "cells": [
    {
      "cell_type": "code",
      "execution_count": 4,
      "metadata": {
        "id": "Ye0S_l0XMccb"
      },
      "outputs": [],
      "source": [
        "\n",
        "import numpy as np\n",
        "import pandas as pd\n",
        "from keras.models import Sequential\n",
        "from keras.layers import Dense,Dropout\n",
        "from keras.optimizers import RMSprop\n",
        "from keras.datasets import mnist \n",
        "import matplotlib.pyplot as plt\n",
        "from sklearn import metrics\n",
        "from sklearn.model_selection import train_test_split\n",
        "from keras.utils import to_categorical\n",
        "from sklearn.preprocessing import LabelEncoder"
      ]
    },
    {
      "cell_type": "code",
      "source": [
        "df=pd.read_csv('/content/letter-recognition.csv')\n"
      ],
      "metadata": {
        "id": "8jGWJsSSMyQI"
      },
      "execution_count": 5,
      "outputs": []
    },
    {
      "cell_type": "code",
      "source": [
        "df"
      ],
      "metadata": {
        "colab": {
          "base_uri": "https://localhost:8080/",
          "height": 488
        },
        "id": "2NplJJqZNrzt",
        "outputId": "38eeecd9-ba5e-44ad-92f7-64444f89fef8"
      },
      "execution_count": 6,
      "outputs": [
        {
          "output_type": "execute_result",
          "data": {
            "text/plain": [
              "      letter  xbox   ybox   width   height  onpix   xbar   ybar   x2bar  \\\n",
              "0          T      2      8       3       5       1      8     13      0   \n",
              "1          I      5     12       3       7       2     10      5      5   \n",
              "2          D      4     11       6       8       6     10      6      2   \n",
              "3          N      7     11       6       6       3      5      9      4   \n",
              "4          G      2      1       3       1       1      8      6      6   \n",
              "...      ...    ...    ...     ...     ...     ...    ...    ...    ...   \n",
              "19995      D      2      2       3       3       2      7      7      7   \n",
              "19996      C      7     10       8       8       4      4      8      6   \n",
              "19997      T      6      9       6       7       5      6     11      3   \n",
              "19998      S      2      3       4       2       1      8      7      2   \n",
              "19999      A      4      9       6       6       2      9      5      3   \n",
              "\n",
              "       y2bar   xybar   x2ybar  xy2bar  xedge   xedgey  yedge   yedgex  \n",
              "0           6       6      10       8       0       8       0       8  \n",
              "1           4      13       3       9       2       8       4      10  \n",
              "2           6      10       3       7       3       7       3       9  \n",
              "3           6       4       4      10       6      10       2       8  \n",
              "4           6       6       5       9       1       7       5      10  \n",
              "...       ...     ...     ...     ...     ...     ...     ...     ...  \n",
              "19995       6       6       6       4       2       8       3       7  \n",
              "19996       9      12       9      13       2       9       3       7  \n",
              "19997       7      11       9       5       2      12       2       4  \n",
              "19998       6      10       6       8       1       9       5       8  \n",
              "19999       1       8       1       8       2       7       2       8  \n",
              "\n",
              "[20000 rows x 17 columns]"
            ],
            "text/html": [
              "\n",
              "  <div id=\"df-21f1569b-73c6-4279-b7f5-c87f2070b39d\">\n",
              "    <div class=\"colab-df-container\">\n",
              "      <div>\n",
              "<style scoped>\n",
              "    .dataframe tbody tr th:only-of-type {\n",
              "        vertical-align: middle;\n",
              "    }\n",
              "\n",
              "    .dataframe tbody tr th {\n",
              "        vertical-align: top;\n",
              "    }\n",
              "\n",
              "    .dataframe thead th {\n",
              "        text-align: right;\n",
              "    }\n",
              "</style>\n",
              "<table border=\"1\" class=\"dataframe\">\n",
              "  <thead>\n",
              "    <tr style=\"text-align: right;\">\n",
              "      <th></th>\n",
              "      <th>letter</th>\n",
              "      <th>xbox</th>\n",
              "      <th>ybox</th>\n",
              "      <th>width</th>\n",
              "      <th>height</th>\n",
              "      <th>onpix</th>\n",
              "      <th>xbar</th>\n",
              "      <th>ybar</th>\n",
              "      <th>x2bar</th>\n",
              "      <th>y2bar</th>\n",
              "      <th>xybar</th>\n",
              "      <th>x2ybar</th>\n",
              "      <th>xy2bar</th>\n",
              "      <th>xedge</th>\n",
              "      <th>xedgey</th>\n",
              "      <th>yedge</th>\n",
              "      <th>yedgex</th>\n",
              "    </tr>\n",
              "  </thead>\n",
              "  <tbody>\n",
              "    <tr>\n",
              "      <th>0</th>\n",
              "      <td>T</td>\n",
              "      <td>2</td>\n",
              "      <td>8</td>\n",
              "      <td>3</td>\n",
              "      <td>5</td>\n",
              "      <td>1</td>\n",
              "      <td>8</td>\n",
              "      <td>13</td>\n",
              "      <td>0</td>\n",
              "      <td>6</td>\n",
              "      <td>6</td>\n",
              "      <td>10</td>\n",
              "      <td>8</td>\n",
              "      <td>0</td>\n",
              "      <td>8</td>\n",
              "      <td>0</td>\n",
              "      <td>8</td>\n",
              "    </tr>\n",
              "    <tr>\n",
              "      <th>1</th>\n",
              "      <td>I</td>\n",
              "      <td>5</td>\n",
              "      <td>12</td>\n",
              "      <td>3</td>\n",
              "      <td>7</td>\n",
              "      <td>2</td>\n",
              "      <td>10</td>\n",
              "      <td>5</td>\n",
              "      <td>5</td>\n",
              "      <td>4</td>\n",
              "      <td>13</td>\n",
              "      <td>3</td>\n",
              "      <td>9</td>\n",
              "      <td>2</td>\n",
              "      <td>8</td>\n",
              "      <td>4</td>\n",
              "      <td>10</td>\n",
              "    </tr>\n",
              "    <tr>\n",
              "      <th>2</th>\n",
              "      <td>D</td>\n",
              "      <td>4</td>\n",
              "      <td>11</td>\n",
              "      <td>6</td>\n",
              "      <td>8</td>\n",
              "      <td>6</td>\n",
              "      <td>10</td>\n",
              "      <td>6</td>\n",
              "      <td>2</td>\n",
              "      <td>6</td>\n",
              "      <td>10</td>\n",
              "      <td>3</td>\n",
              "      <td>7</td>\n",
              "      <td>3</td>\n",
              "      <td>7</td>\n",
              "      <td>3</td>\n",
              "      <td>9</td>\n",
              "    </tr>\n",
              "    <tr>\n",
              "      <th>3</th>\n",
              "      <td>N</td>\n",
              "      <td>7</td>\n",
              "      <td>11</td>\n",
              "      <td>6</td>\n",
              "      <td>6</td>\n",
              "      <td>3</td>\n",
              "      <td>5</td>\n",
              "      <td>9</td>\n",
              "      <td>4</td>\n",
              "      <td>6</td>\n",
              "      <td>4</td>\n",
              "      <td>4</td>\n",
              "      <td>10</td>\n",
              "      <td>6</td>\n",
              "      <td>10</td>\n",
              "      <td>2</td>\n",
              "      <td>8</td>\n",
              "    </tr>\n",
              "    <tr>\n",
              "      <th>4</th>\n",
              "      <td>G</td>\n",
              "      <td>2</td>\n",
              "      <td>1</td>\n",
              "      <td>3</td>\n",
              "      <td>1</td>\n",
              "      <td>1</td>\n",
              "      <td>8</td>\n",
              "      <td>6</td>\n",
              "      <td>6</td>\n",
              "      <td>6</td>\n",
              "      <td>6</td>\n",
              "      <td>5</td>\n",
              "      <td>9</td>\n",
              "      <td>1</td>\n",
              "      <td>7</td>\n",
              "      <td>5</td>\n",
              "      <td>10</td>\n",
              "    </tr>\n",
              "    <tr>\n",
              "      <th>...</th>\n",
              "      <td>...</td>\n",
              "      <td>...</td>\n",
              "      <td>...</td>\n",
              "      <td>...</td>\n",
              "      <td>...</td>\n",
              "      <td>...</td>\n",
              "      <td>...</td>\n",
              "      <td>...</td>\n",
              "      <td>...</td>\n",
              "      <td>...</td>\n",
              "      <td>...</td>\n",
              "      <td>...</td>\n",
              "      <td>...</td>\n",
              "      <td>...</td>\n",
              "      <td>...</td>\n",
              "      <td>...</td>\n",
              "      <td>...</td>\n",
              "    </tr>\n",
              "    <tr>\n",
              "      <th>19995</th>\n",
              "      <td>D</td>\n",
              "      <td>2</td>\n",
              "      <td>2</td>\n",
              "      <td>3</td>\n",
              "      <td>3</td>\n",
              "      <td>2</td>\n",
              "      <td>7</td>\n",
              "      <td>7</td>\n",
              "      <td>7</td>\n",
              "      <td>6</td>\n",
              "      <td>6</td>\n",
              "      <td>6</td>\n",
              "      <td>4</td>\n",
              "      <td>2</td>\n",
              "      <td>8</td>\n",
              "      <td>3</td>\n",
              "      <td>7</td>\n",
              "    </tr>\n",
              "    <tr>\n",
              "      <th>19996</th>\n",
              "      <td>C</td>\n",
              "      <td>7</td>\n",
              "      <td>10</td>\n",
              "      <td>8</td>\n",
              "      <td>8</td>\n",
              "      <td>4</td>\n",
              "      <td>4</td>\n",
              "      <td>8</td>\n",
              "      <td>6</td>\n",
              "      <td>9</td>\n",
              "      <td>12</td>\n",
              "      <td>9</td>\n",
              "      <td>13</td>\n",
              "      <td>2</td>\n",
              "      <td>9</td>\n",
              "      <td>3</td>\n",
              "      <td>7</td>\n",
              "    </tr>\n",
              "    <tr>\n",
              "      <th>19997</th>\n",
              "      <td>T</td>\n",
              "      <td>6</td>\n",
              "      <td>9</td>\n",
              "      <td>6</td>\n",
              "      <td>7</td>\n",
              "      <td>5</td>\n",
              "      <td>6</td>\n",
              "      <td>11</td>\n",
              "      <td>3</td>\n",
              "      <td>7</td>\n",
              "      <td>11</td>\n",
              "      <td>9</td>\n",
              "      <td>5</td>\n",
              "      <td>2</td>\n",
              "      <td>12</td>\n",
              "      <td>2</td>\n",
              "      <td>4</td>\n",
              "    </tr>\n",
              "    <tr>\n",
              "      <th>19998</th>\n",
              "      <td>S</td>\n",
              "      <td>2</td>\n",
              "      <td>3</td>\n",
              "      <td>4</td>\n",
              "      <td>2</td>\n",
              "      <td>1</td>\n",
              "      <td>8</td>\n",
              "      <td>7</td>\n",
              "      <td>2</td>\n",
              "      <td>6</td>\n",
              "      <td>10</td>\n",
              "      <td>6</td>\n",
              "      <td>8</td>\n",
              "      <td>1</td>\n",
              "      <td>9</td>\n",
              "      <td>5</td>\n",
              "      <td>8</td>\n",
              "    </tr>\n",
              "    <tr>\n",
              "      <th>19999</th>\n",
              "      <td>A</td>\n",
              "      <td>4</td>\n",
              "      <td>9</td>\n",
              "      <td>6</td>\n",
              "      <td>6</td>\n",
              "      <td>2</td>\n",
              "      <td>9</td>\n",
              "      <td>5</td>\n",
              "      <td>3</td>\n",
              "      <td>1</td>\n",
              "      <td>8</td>\n",
              "      <td>1</td>\n",
              "      <td>8</td>\n",
              "      <td>2</td>\n",
              "      <td>7</td>\n",
              "      <td>2</td>\n",
              "      <td>8</td>\n",
              "    </tr>\n",
              "  </tbody>\n",
              "</table>\n",
              "<p>20000 rows × 17 columns</p>\n",
              "</div>\n",
              "      <button class=\"colab-df-convert\" onclick=\"convertToInteractive('df-21f1569b-73c6-4279-b7f5-c87f2070b39d')\"\n",
              "              title=\"Convert this dataframe to an interactive table.\"\n",
              "              style=\"display:none;\">\n",
              "        \n",
              "  <svg xmlns=\"http://www.w3.org/2000/svg\" height=\"24px\"viewBox=\"0 0 24 24\"\n",
              "       width=\"24px\">\n",
              "    <path d=\"M0 0h24v24H0V0z\" fill=\"none\"/>\n",
              "    <path d=\"M18.56 5.44l.94 2.06.94-2.06 2.06-.94-2.06-.94-.94-2.06-.94 2.06-2.06.94zm-11 1L8.5 8.5l.94-2.06 2.06-.94-2.06-.94L8.5 2.5l-.94 2.06-2.06.94zm10 10l.94 2.06.94-2.06 2.06-.94-2.06-.94-.94-2.06-.94 2.06-2.06.94z\"/><path d=\"M17.41 7.96l-1.37-1.37c-.4-.4-.92-.59-1.43-.59-.52 0-1.04.2-1.43.59L10.3 9.45l-7.72 7.72c-.78.78-.78 2.05 0 2.83L4 21.41c.39.39.9.59 1.41.59.51 0 1.02-.2 1.41-.59l7.78-7.78 2.81-2.81c.8-.78.8-2.07 0-2.86zM5.41 20L4 18.59l7.72-7.72 1.47 1.35L5.41 20z\"/>\n",
              "  </svg>\n",
              "      </button>\n",
              "      \n",
              "  <style>\n",
              "    .colab-df-container {\n",
              "      display:flex;\n",
              "      flex-wrap:wrap;\n",
              "      gap: 12px;\n",
              "    }\n",
              "\n",
              "    .colab-df-convert {\n",
              "      background-color: #E8F0FE;\n",
              "      border: none;\n",
              "      border-radius: 50%;\n",
              "      cursor: pointer;\n",
              "      display: none;\n",
              "      fill: #1967D2;\n",
              "      height: 32px;\n",
              "      padding: 0 0 0 0;\n",
              "      width: 32px;\n",
              "    }\n",
              "\n",
              "    .colab-df-convert:hover {\n",
              "      background-color: #E2EBFA;\n",
              "      box-shadow: 0px 1px 2px rgba(60, 64, 67, 0.3), 0px 1px 3px 1px rgba(60, 64, 67, 0.15);\n",
              "      fill: #174EA6;\n",
              "    }\n",
              "\n",
              "    [theme=dark] .colab-df-convert {\n",
              "      background-color: #3B4455;\n",
              "      fill: #D2E3FC;\n",
              "    }\n",
              "\n",
              "    [theme=dark] .colab-df-convert:hover {\n",
              "      background-color: #434B5C;\n",
              "      box-shadow: 0px 1px 3px 1px rgba(0, 0, 0, 0.15);\n",
              "      filter: drop-shadow(0px 1px 2px rgba(0, 0, 0, 0.3));\n",
              "      fill: #FFFFFF;\n",
              "    }\n",
              "  </style>\n",
              "\n",
              "      <script>\n",
              "        const buttonEl =\n",
              "          document.querySelector('#df-21f1569b-73c6-4279-b7f5-c87f2070b39d button.colab-df-convert');\n",
              "        buttonEl.style.display =\n",
              "          google.colab.kernel.accessAllowed ? 'block' : 'none';\n",
              "\n",
              "        async function convertToInteractive(key) {\n",
              "          const element = document.querySelector('#df-21f1569b-73c6-4279-b7f5-c87f2070b39d');\n",
              "          const dataTable =\n",
              "            await google.colab.kernel.invokeFunction('convertToInteractive',\n",
              "                                                     [key], {});\n",
              "          if (!dataTable) return;\n",
              "\n",
              "          const docLinkHtml = 'Like what you see? Visit the ' +\n",
              "            '<a target=\"_blank\" href=https://colab.research.google.com/notebooks/data_table.ipynb>data table notebook</a>'\n",
              "            + ' to learn more about interactive tables.';\n",
              "          element.innerHTML = '';\n",
              "          dataTable['output_type'] = 'display_data';\n",
              "          await google.colab.output.renderOutput(dataTable, element);\n",
              "          const docLink = document.createElement('div');\n",
              "          docLink.innerHTML = docLinkHtml;\n",
              "          element.appendChild(docLink);\n",
              "        }\n",
              "      </script>\n",
              "    </div>\n",
              "  </div>\n",
              "  "
            ]
          },
          "metadata": {},
          "execution_count": 6
        }
      ]
    },
    {
      "cell_type": "code",
      "source": [
        "df.dtypes\n"
      ],
      "metadata": {
        "colab": {
          "base_uri": "https://localhost:8080/"
        },
        "id": "HDsISqpdNw0C",
        "outputId": "ef6e736d-f156-4584-ef81-f5e70ed61301"
      },
      "execution_count": 7,
      "outputs": [
        {
          "output_type": "execute_result",
          "data": {
            "text/plain": [
              "letter    object\n",
              "xbox       int64\n",
              "ybox       int64\n",
              "width      int64\n",
              "height     int64\n",
              "onpix      int64\n",
              "xbar       int64\n",
              "ybar       int64\n",
              "x2bar      int64\n",
              "y2bar      int64\n",
              "xybar      int64\n",
              "x2ybar     int64\n",
              "xy2bar     int64\n",
              "xedge      int64\n",
              "xedgey     int64\n",
              "yedge      int64\n",
              "yedgex     int64\n",
              "dtype: object"
            ]
          },
          "metadata": {},
          "execution_count": 7
        }
      ]
    },
    {
      "cell_type": "code",
      "source": [
        "x=df.drop('letter',axis=1).values\n",
        "y=df['letter'].values\n"
      ],
      "metadata": {
        "id": "zcA9MU47NzsJ"
      },
      "execution_count": 9,
      "outputs": []
    },
    {
      "cell_type": "code",
      "source": [
        "print(x.shape)\n",
        "print(y.shape)"
      ],
      "metadata": {
        "colab": {
          "base_uri": "https://localhost:8080/"
        },
        "id": "pe8GcOWiN-xG",
        "outputId": "93a1ce20-c718-4476-f8e4-ddde78883aae"
      },
      "execution_count": 10,
      "outputs": [
        {
          "output_type": "stream",
          "name": "stdout",
          "text": [
            "(20000, 16)\n",
            "(20000,)\n"
          ]
        }
      ]
    },
    {
      "cell_type": "code",
      "source": [
        "x_train,x_test,y_train,y_test=train_test_split(x,y,random_state=42,test_size=0.20)"
      ],
      "metadata": {
        "id": "xQrxFLNYOF3z"
      },
      "execution_count": 11,
      "outputs": []
    },
    {
      "cell_type": "code",
      "source": [
        "print(x_train.shape)\n",
        "print(y_train.shape)\n",
        "print(x_test.shape)\n",
        "print(y_test.shape)"
      ],
      "metadata": {
        "colab": {
          "base_uri": "https://localhost:8080/"
        },
        "id": "QsILJMxPOEVf",
        "outputId": "7e8e9691-6df3-4608-cde3-43451b080e67"
      },
      "execution_count": 12,
      "outputs": [
        {
          "output_type": "stream",
          "name": "stdout",
          "text": [
            "(16000, 16)\n",
            "(16000,)\n",
            "(4000, 16)\n",
            "(4000,)\n"
          ]
        }
      ]
    },
    {
      "cell_type": "code",
      "source": [
        "x_train[0]"
      ],
      "metadata": {
        "colab": {
          "base_uri": "https://localhost:8080/"
        },
        "id": "Y5ZpGguLOknS",
        "outputId": "b5ab513e-871e-4810-ade8-574073e1584b"
      },
      "execution_count": 13,
      "outputs": [
        {
          "output_type": "execute_result",
          "data": {
            "text/plain": [
              "array([ 4,  7,  5,  5,  4,  6,  7,  3,  7, 11,  8,  9,  3,  8,  4,  8])"
            ]
          },
          "metadata": {},
          "execution_count": 13
        }
      ]
    },
    {
      "cell_type": "code",
      "source": [
        "y_train[0]"
      ],
      "metadata": {
        "colab": {
          "base_uri": "https://localhost:8080/",
          "height": 35
        },
        "id": "2nH-aBIuOpjc",
        "outputId": "10775ec5-5ecb-4b43-a485-e1330dc7080b"
      },
      "execution_count": 14,
      "outputs": [
        {
          "output_type": "execute_result",
          "data": {
            "text/plain": [
              "'E'"
            ],
            "application/vnd.google.colaboratory.intrinsic+json": {
              "type": "string"
            }
          },
          "metadata": {},
          "execution_count": 14
        }
      ]
    },
    {
      "cell_type": "code",
      "source": [
        "x_train=x_train/255\n",
        "x_test=x_test/255"
      ],
      "metadata": {
        "id": "3jK6yznvOtwE"
      },
      "execution_count": 15,
      "outputs": []
    },
    {
      "cell_type": "code",
      "source": [
        "x_train[0]"
      ],
      "metadata": {
        "colab": {
          "base_uri": "https://localhost:8080/"
        },
        "id": "92AEKX5BO3vh",
        "outputId": "5c87614a-2ba3-49ab-de31-8ca2a3074cef"
      },
      "execution_count": 16,
      "outputs": [
        {
          "output_type": "execute_result",
          "data": {
            "text/plain": [
              "array([0.01568627, 0.02745098, 0.01960784, 0.01960784, 0.01568627,\n",
              "       0.02352941, 0.02745098, 0.01176471, 0.02745098, 0.04313725,\n",
              "       0.03137255, 0.03529412, 0.01176471, 0.03137255, 0.01568627,\n",
              "       0.03137255])"
            ]
          },
          "metadata": {},
          "execution_count": 16
        }
      ]
    },
    {
      "cell_type": "code",
      "source": [
        "encoder=LabelEncoder()\n",
        "y_train=encoder.fit_transform(y_train)\n",
        "y_test=encoder.fit_transform(y_test)"
      ],
      "metadata": {
        "id": "ZU1P4ABlPJAh"
      },
      "execution_count": 17,
      "outputs": []
    },
    {
      "cell_type": "code",
      "source": [
        "model = Sequential()\n",
        "model.add(Dense(512,activation='relu',input_shape=(16,)))\n",
        "model.add(Dense(256,activation='relu'))\n",
        "model.add(Dense(26,activation='softmax'))"
      ],
      "metadata": {
        "id": "PO8XhmDpPQwz"
      },
      "execution_count": 18,
      "outputs": []
    },
    {
      "cell_type": "code",
      "source": [
        "model.compile(loss='sparse_categorical_crossentropy',optimizer='adam',metrics=['accuracy'])\n",
        "batch_size=128\n",
        "epochs=50"
      ],
      "metadata": {
        "id": "2P4RWwT2PYx1"
      },
      "execution_count": 19,
      "outputs": []
    },
    {
      "cell_type": "code",
      "source": [
        "history=model.fit(x_train,y_train,batch_size=batch_size,epochs=epochs,verbose=1,validation_data=(x_test,y_test))"
      ],
      "metadata": {
        "colab": {
          "base_uri": "https://localhost:8080/"
        },
        "id": "DPqAOmgCPdPD",
        "outputId": "d07983b8-0fd4-4938-e2a0-2943ef42188e"
      },
      "execution_count": 20,
      "outputs": [
        {
          "output_type": "stream",
          "name": "stdout",
          "text": [
            "Epoch 1/50\n",
            "125/125 [==============================] - 2s 10ms/step - loss: 3.1084 - accuracy: 0.1659 - val_loss: 2.7085 - val_accuracy: 0.2858\n",
            "Epoch 2/50\n",
            "125/125 [==============================] - 1s 8ms/step - loss: 2.3399 - accuracy: 0.3281 - val_loss: 2.1046 - val_accuracy: 0.3685\n",
            "Epoch 3/50\n",
            "125/125 [==============================] - 1s 8ms/step - loss: 1.9696 - accuracy: 0.4238 - val_loss: 1.8320 - val_accuracy: 0.4538\n",
            "Epoch 4/50\n",
            "125/125 [==============================] - 1s 7ms/step - loss: 1.7640 - accuracy: 0.4751 - val_loss: 1.6860 - val_accuracy: 0.5070\n",
            "Epoch 5/50\n",
            "125/125 [==============================] - 1s 8ms/step - loss: 1.6293 - accuracy: 0.5145 - val_loss: 1.5670 - val_accuracy: 0.5330\n",
            "Epoch 6/50\n",
            "125/125 [==============================] - 1s 7ms/step - loss: 1.5305 - accuracy: 0.5459 - val_loss: 1.4749 - val_accuracy: 0.5690\n",
            "Epoch 7/50\n",
            "125/125 [==============================] - 1s 8ms/step - loss: 1.4600 - accuracy: 0.5677 - val_loss: 1.4232 - val_accuracy: 0.5925\n",
            "Epoch 8/50\n",
            "125/125 [==============================] - 1s 9ms/step - loss: 1.3933 - accuracy: 0.5948 - val_loss: 1.3532 - val_accuracy: 0.5965\n",
            "Epoch 9/50\n",
            "125/125 [==============================] - 2s 12ms/step - loss: 1.3465 - accuracy: 0.6111 - val_loss: 1.3253 - val_accuracy: 0.6143\n",
            "Epoch 10/50\n",
            "125/125 [==============================] - 1s 10ms/step - loss: 1.3037 - accuracy: 0.6252 - val_loss: 1.2725 - val_accuracy: 0.6445\n",
            "Epoch 11/50\n",
            "125/125 [==============================] - 1s 8ms/step - loss: 1.2632 - accuracy: 0.6396 - val_loss: 1.2286 - val_accuracy: 0.6522\n",
            "Epoch 12/50\n",
            "125/125 [==============================] - 1s 7ms/step - loss: 1.2178 - accuracy: 0.6552 - val_loss: 1.1935 - val_accuracy: 0.6715\n",
            "Epoch 13/50\n",
            "125/125 [==============================] - 1s 8ms/step - loss: 1.1818 - accuracy: 0.6642 - val_loss: 1.1372 - val_accuracy: 0.6765\n",
            "Epoch 14/50\n",
            "125/125 [==============================] - 1s 8ms/step - loss: 1.1447 - accuracy: 0.6741 - val_loss: 1.1144 - val_accuracy: 0.6917\n",
            "Epoch 15/50\n",
            "125/125 [==============================] - 1s 8ms/step - loss: 1.1123 - accuracy: 0.6820 - val_loss: 1.0789 - val_accuracy: 0.6933\n",
            "Epoch 16/50\n",
            "125/125 [==============================] - 1s 7ms/step - loss: 1.0798 - accuracy: 0.6903 - val_loss: 1.0679 - val_accuracy: 0.7055\n",
            "Epoch 17/50\n",
            "125/125 [==============================] - 1s 7ms/step - loss: 1.0533 - accuracy: 0.6996 - val_loss: 1.0197 - val_accuracy: 0.7155\n",
            "Epoch 18/50\n",
            "125/125 [==============================] - 1s 8ms/step - loss: 1.0247 - accuracy: 0.7082 - val_loss: 0.9951 - val_accuracy: 0.7228\n",
            "Epoch 19/50\n",
            "125/125 [==============================] - 1s 8ms/step - loss: 1.0003 - accuracy: 0.7178 - val_loss: 0.9800 - val_accuracy: 0.7182\n",
            "Epoch 20/50\n",
            "125/125 [==============================] - 1s 10ms/step - loss: 0.9764 - accuracy: 0.7222 - val_loss: 0.9512 - val_accuracy: 0.7287\n",
            "Epoch 21/50\n",
            "125/125 [==============================] - 1s 12ms/step - loss: 0.9500 - accuracy: 0.7312 - val_loss: 0.9268 - val_accuracy: 0.7498\n",
            "Epoch 22/50\n",
            "125/125 [==============================] - 1s 11ms/step - loss: 0.9317 - accuracy: 0.7386 - val_loss: 0.9352 - val_accuracy: 0.7308\n",
            "Epoch 23/50\n",
            "125/125 [==============================] - 1s 9ms/step - loss: 0.9097 - accuracy: 0.7432 - val_loss: 0.8895 - val_accuracy: 0.7542\n",
            "Epoch 24/50\n",
            "125/125 [==============================] - 1s 8ms/step - loss: 0.8868 - accuracy: 0.7495 - val_loss: 0.8619 - val_accuracy: 0.7663\n",
            "Epoch 25/50\n",
            "125/125 [==============================] - 1s 8ms/step - loss: 0.8695 - accuracy: 0.7558 - val_loss: 0.8588 - val_accuracy: 0.7685\n",
            "Epoch 26/50\n",
            "125/125 [==============================] - 1s 8ms/step - loss: 0.8530 - accuracy: 0.7601 - val_loss: 0.8328 - val_accuracy: 0.7657\n",
            "Epoch 27/50\n",
            "125/125 [==============================] - 1s 8ms/step - loss: 0.8346 - accuracy: 0.7647 - val_loss: 0.8297 - val_accuracy: 0.7705\n",
            "Epoch 28/50\n",
            "125/125 [==============================] - 1s 8ms/step - loss: 0.8185 - accuracy: 0.7709 - val_loss: 0.8025 - val_accuracy: 0.7807\n",
            "Epoch 29/50\n",
            "125/125 [==============================] - 1s 8ms/step - loss: 0.8113 - accuracy: 0.7664 - val_loss: 0.7926 - val_accuracy: 0.7850\n",
            "Epoch 30/50\n",
            "125/125 [==============================] - 1s 8ms/step - loss: 0.7874 - accuracy: 0.7778 - val_loss: 0.7765 - val_accuracy: 0.7857\n",
            "Epoch 31/50\n",
            "125/125 [==============================] - 1s 8ms/step - loss: 0.7800 - accuracy: 0.7754 - val_loss: 0.7605 - val_accuracy: 0.7878\n",
            "Epoch 32/50\n",
            "125/125 [==============================] - 1s 9ms/step - loss: 0.7658 - accuracy: 0.7830 - val_loss: 0.7548 - val_accuracy: 0.7987\n",
            "Epoch 33/50\n",
            "125/125 [==============================] - 1s 12ms/step - loss: 0.7564 - accuracy: 0.7835 - val_loss: 0.7560 - val_accuracy: 0.7828\n",
            "Epoch 34/50\n",
            "125/125 [==============================] - 1s 10ms/step - loss: 0.7400 - accuracy: 0.7876 - val_loss: 0.7358 - val_accuracy: 0.7940\n",
            "Epoch 35/50\n",
            "125/125 [==============================] - 1s 11ms/step - loss: 0.7262 - accuracy: 0.7918 - val_loss: 0.7224 - val_accuracy: 0.8020\n",
            "Epoch 36/50\n",
            "125/125 [==============================] - 1s 11ms/step - loss: 0.7161 - accuracy: 0.7926 - val_loss: 0.7033 - val_accuracy: 0.8050\n",
            "Epoch 37/50\n",
            "125/125 [==============================] - 1s 10ms/step - loss: 0.7083 - accuracy: 0.7922 - val_loss: 0.6928 - val_accuracy: 0.8060\n",
            "Epoch 38/50\n",
            "125/125 [==============================] - 1s 8ms/step - loss: 0.7000 - accuracy: 0.7940 - val_loss: 0.6882 - val_accuracy: 0.8020\n",
            "Epoch 39/50\n",
            "125/125 [==============================] - 1s 8ms/step - loss: 0.6825 - accuracy: 0.8006 - val_loss: 0.6664 - val_accuracy: 0.8148\n",
            "Epoch 40/50\n",
            "125/125 [==============================] - 1s 8ms/step - loss: 0.6737 - accuracy: 0.8024 - val_loss: 0.6634 - val_accuracy: 0.8117\n",
            "Epoch 41/50\n",
            "125/125 [==============================] - 1s 8ms/step - loss: 0.6607 - accuracy: 0.8081 - val_loss: 0.6433 - val_accuracy: 0.8115\n",
            "Epoch 42/50\n",
            "125/125 [==============================] - 1s 8ms/step - loss: 0.6549 - accuracy: 0.8094 - val_loss: 0.6469 - val_accuracy: 0.8175\n",
            "Epoch 43/50\n",
            "125/125 [==============================] - 1s 8ms/step - loss: 0.6423 - accuracy: 0.8112 - val_loss: 0.6338 - val_accuracy: 0.8130\n",
            "Epoch 44/50\n",
            "125/125 [==============================] - 1s 12ms/step - loss: 0.6331 - accuracy: 0.8165 - val_loss: 0.6241 - val_accuracy: 0.8223\n",
            "Epoch 45/50\n",
            "125/125 [==============================] - 1s 11ms/step - loss: 0.6239 - accuracy: 0.8150 - val_loss: 0.6113 - val_accuracy: 0.8242\n",
            "Epoch 46/50\n",
            "125/125 [==============================] - 1s 10ms/step - loss: 0.6153 - accuracy: 0.8163 - val_loss: 0.6278 - val_accuracy: 0.8175\n",
            "Epoch 47/50\n",
            "125/125 [==============================] - 1s 10ms/step - loss: 0.6057 - accuracy: 0.8194 - val_loss: 0.6063 - val_accuracy: 0.8263\n",
            "Epoch 48/50\n",
            "125/125 [==============================] - 1s 10ms/step - loss: 0.5970 - accuracy: 0.8233 - val_loss: 0.5838 - val_accuracy: 0.8347\n",
            "Epoch 49/50\n",
            "125/125 [==============================] - 1s 7ms/step - loss: 0.5876 - accuracy: 0.8251 - val_loss: 0.5741 - val_accuracy: 0.8355\n",
            "Epoch 50/50\n",
            "125/125 [==============================] - 1s 7ms/step - loss: 0.5765 - accuracy: 0.8268 - val_loss: 0.5683 - val_accuracy: 0.8350\n"
          ]
        }
      ]
    },
    {
      "cell_type": "code",
      "source": [
        "x_test[100]"
      ],
      "metadata": {
        "colab": {
          "base_uri": "https://localhost:8080/"
        },
        "id": "aZxf0IVuPu3n",
        "outputId": "60bd046f-06f6-4a9b-a204-5812c248faf2"
      },
      "execution_count": 21,
      "outputs": [
        {
          "output_type": "execute_result",
          "data": {
            "text/plain": [
              "array([0.02745098, 0.05098039, 0.02745098, 0.03137255, 0.01960784,\n",
              "       0.03921569, 0.01960784, 0.00784314, 0.01960784, 0.03529412,\n",
              "       0.01568627, 0.03137255, 0.02352941, 0.03137255, 0.02352941,\n",
              "       0.03529412])"
            ]
          },
          "metadata": {},
          "execution_count": 21
        }
      ]
    },
    {
      "cell_type": "code",
      "source": [
        "lab=encoder.inverse_transform([y_test[100]])\n",
        "print(\"Actual Label : \",lab[0])"
      ],
      "metadata": {
        "colab": {
          "base_uri": "https://localhost:8080/"
        },
        "id": "3LulyeGOP0ho",
        "outputId": "3dd320de-76b2-415c-8271-116e260f374a"
      },
      "execution_count": 22,
      "outputs": [
        {
          "output_type": "stream",
          "name": "stdout",
          "text": [
            "Actual Label :  R\n"
          ]
        }
      ]
    },
    {
      "cell_type": "code",
      "source": [
        "result=model.predict(x_test)"
      ],
      "metadata": {
        "colab": {
          "base_uri": "https://localhost:8080/"
        },
        "id": "hzsJOxpcP7Bw",
        "outputId": "46577549-4cd7-46a3-891f-5babf69f72bc"
      },
      "execution_count": 23,
      "outputs": [
        {
          "output_type": "stream",
          "name": "stdout",
          "text": [
            "125/125 [==============================] - 0s 2ms/step\n"
          ]
        }
      ]
    },
    {
      "cell_type": "code",
      "source": [
        "print(result[10])"
      ],
      "metadata": {
        "colab": {
          "base_uri": "https://localhost:8080/"
        },
        "id": "u-3q6ob4QAr0",
        "outputId": "d120184b-38d4-4828-d19b-891c406d6764"
      },
      "execution_count": 25,
      "outputs": [
        {
          "output_type": "stream",
          "name": "stdout",
          "text": [
            "[3.31651754e-05 6.79568172e-01 1.24732219e-06 1.71592906e-01\n",
            " 4.70924238e-03 4.75593936e-03 1.87231868e-04 4.75132130e-02\n",
            " 2.14144675e-04 5.13943494e-04 1.80119497e-03 2.95509635e-05\n",
            " 4.09868553e-05 6.06200365e-06 1.68413826e-04 3.72703740e-04\n",
            " 4.12838599e-05 8.12079459e-02 4.27900488e-03 1.31948822e-04\n",
            " 1.99091819e-08 1.06442926e-07 1.46475754e-09 1.35607680e-03\n",
            " 2.49694239e-08 1.47559436e-03]\n"
          ]
        }
      ]
    },
    {
      "cell_type": "code",
      "source": [
        "final_value=np.argmax(result[10])"
      ],
      "metadata": {
        "id": "Qu5RqMlhQNmc"
      },
      "execution_count": 26,
      "outputs": []
    },
    {
      "cell_type": "code",
      "source": [
        "print(\"Actual label \",y_test[10])\n",
        "print(\"Predicted label\",final_value)"
      ],
      "metadata": {
        "colab": {
          "base_uri": "https://localhost:8080/"
        },
        "id": "GcL-HrukQRr8",
        "outputId": "31596df1-3495-482b-b49b-4ed2c7fe1a37"
      },
      "execution_count": 27,
      "outputs": [
        {
          "output_type": "stream",
          "name": "stdout",
          "text": [
            "Actual label  1\n",
            "Predicted label 1\n"
          ]
        }
      ]
    },
    {
      "cell_type": "code",
      "source": [
        "actual=encoder.inverse_transform([y_test[10]])\n",
        "predicted=encoder.inverse_transform([final_value])"
      ],
      "metadata": {
        "id": "wsJaiMWyQVy9"
      },
      "execution_count": 28,
      "outputs": []
    },
    {
      "cell_type": "code",
      "source": [
        "\n",
        "print(\"Actual label \",actual)\n",
        "print(\"Predicted label\",predicted)"
      ],
      "metadata": {
        "colab": {
          "base_uri": "https://localhost:8080/"
        },
        "id": "uvVqmzwfQcBT",
        "outputId": "fd627f05-3f04-41ee-940f-2d389227b1c1"
      },
      "execution_count": 29,
      "outputs": [
        {
          "output_type": "stream",
          "name": "stdout",
          "text": [
            "Actual label  ['B']\n",
            "Predicted label ['B']\n"
          ]
        }
      ]
    }
  ]
}